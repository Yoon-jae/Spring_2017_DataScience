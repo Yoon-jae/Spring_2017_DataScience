{
 "cells": [
  {
   "cell_type": "markdown",
   "metadata": {},
   "source": [
    "# BeautifulSoup Crawling\n",
    "## dcinside 식물갤러리"
   ]
  },
  {
   "cell_type": "code",
   "execution_count": 5,
   "metadata": {
    "collapsed": true
   },
   "outputs": [],
   "source": [
    "from bs4 import BeautifulSoup\n",
    "import urllib.request"
   ]
  },
  {
   "cell_type": "code",
   "execution_count": 11,
   "metadata": {
    "collapsed": false
   },
   "outputs": [],
   "source": [
    "page_url = 'http://gall.dcinside.com/board/lists/?id=tree'\n",
    "\n",
    "with urllib.request.urlopen(page_url) as url:\n",
    "    s = url.read()"
   ]
  },
  {
   "cell_type": "markdown",
   "metadata": {},
   "source": [
    "## Get title of post"
   ]
  },
  {
   "cell_type": "code",
   "execution_count": 12,
   "metadata": {
    "collapsed": true
   },
   "outputs": [],
   "source": [
    "soup = BeautifulSoup(s,'html.parser',from_encoding='utf-8')\n",
    "title_list = soup.find_all('td', attrs={'class':'t_subject'})"
   ]
  },
  {
   "cell_type": "code",
   "execution_count": 13,
   "metadata": {
    "collapsed": true
   },
   "outputs": [],
   "source": [
    "mydata = \"\"\n",
    "\n",
    "for title in title_list:\n",
    "    mydata = mydata + title.text"
   ]
  },
  {
   "cell_type": "code",
   "execution_count": 14,
   "metadata": {
    "collapsed": false
   },
   "outputs": [
    {
     "data": {
      "text/plain": [
       "'영화보고 예매권과 USB 경품 챙기자!월간디시 5월호 : 디시가 당당한 갤러식물 사진을 올려주세요.[275]이건 무슨 꽃인가요?[1]네잎클로버 재배하는 방법도 있나요?[1]산단이랑 하늘나리는 같은 꽃이야??[1]저희 아버지가 키우시는 식물인데 이름이뭔가요??[1]꽃이름좀 알려주세요~!!![1]꽃구경 하세여~스투키 궁금한점이 있습니다.[1]사진에 있는 식물 뭔가요?? [1]이 하얀거 뭔가요?[1]뱅갈고무나무랑 스투키삼 ㅍㅌㅊ??????????석곡 고아입니다고무나무 키우다가 가지치기해서? 물에 담가놨는데[1]저희집에있는 드라이플라원데 무슨꽃인가요?[2]이 나무의 이름은 무엇인가요?[1]겐차야자 어떡하죠ㅜㅜ수경재배 잎 마름 질문여기 사진의 꽃 종이 궁금합니다![3]꽃이름 알려주세여[1]이 그림에 꽃이 뭔지 알려주세요ㅜㅜ[2]다이소에서 5천원주고 화분을 구입해서 키웠습니다.이 나무 이름이 무었인가요 ~~^^[1]이거 무슨종인가요?[1]무엇인지요?[2]무슨 꽃인가요?[2]아보카도 발아 가능성 있을까요?[1]무슨 꽃인가요?[2]저도 이 식물 이름이 궁금해서 들립니다. 부탁 드려요~[2]무슨 꽃인가요?[1]지난주에 산 가지마루 잎이 자꾸 떨어지는데꽃 이름이 무엇인지요?[1]무슨 꽃인지요?[1]이 꽃 이름이 뭔가욤????[1]이 두가지 다육이 이름 아시는분 계신가요..!이거 모란인가요 작약인가요?[2]이상해씨 화분에 올려져있는 이꽃 이름 뭔가요?[1]이 꽃 이름은 뭘까요?[1]스투키 안자라는 이유중 하나가 설마 화분이 좆만하면 안자람? 씨바 애초에[1]어느게 맞는지요?[2]할배할매들  이 꽃 이름이 뭐에요?[1]다육식물 스투키 키우는데요 한 2년 가까이되가는데 길어지기만함[3]파인애플 잘 자라여?심은적도 없는 덩이괭이밥..왜 나는건가요[1]식물이름좀 알려주세요~[1]안녕하세요 실험중 모르는 잎이 있어 질문드립니다[2]'"
      ]
     },
     "execution_count": 14,
     "metadata": {},
     "output_type": "execute_result"
    }
   ],
   "source": [
    "mydata"
   ]
  },
  {
   "cell_type": "code",
   "execution_count": 15,
   "metadata": {
    "collapsed": true
   },
   "outputs": [],
   "source": [
    "text_file = open(\"wordcloud_tree.txt\", \"w\")\n",
    "text_file.write(mydata)\n",
    "text_file.close()"
   ]
  }
 ],
 "metadata": {
  "anaconda-cloud": {},
  "kernelspec": {
   "display_name": "Python [conda root]",
   "language": "python",
   "name": "conda-root-py"
  },
  "language_info": {
   "codemirror_mode": {
    "name": "ipython",
    "version": 3
   },
   "file_extension": ".py",
   "mimetype": "text/x-python",
   "name": "python",
   "nbconvert_exporter": "python",
   "pygments_lexer": "ipython3",
   "version": "3.5.2"
  }
 },
 "nbformat": 4,
 "nbformat_minor": 2
}
