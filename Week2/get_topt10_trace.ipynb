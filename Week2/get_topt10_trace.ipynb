{
 "cells": [
  {
   "cell_type": "code",
   "execution_count": 36,
   "metadata": {
    "collapsed": true
   },
   "outputs": [],
   "source": [
    "import csv\n",
    "from operator import itemgetter\n",
    "\n",
    "tashu_dict = csv.DictReader(open('./Data/tashu.csv','r'))\n",
    "station_dict = csv.DictReader(open('./Data/station.csv','r'))"
   ]
  },
  {
   "cell_type": "code",
   "execution_count": 37,
   "metadata": {
    "collapsed": false
   },
   "outputs": [],
   "source": [
    "trace_count = [[0]*227 for _ in range(227)]\n",
    "\n",
    "for row in tashu_dict:\n",
    "    rent_st = row['RENT_STATION']\n",
    "    return_st = row['RETURN_STATION']\n",
    "\n",
    "    if rent_st != '' and return_st != '':\n",
    "        trace_count[int(rent_st)][int(return_st)] += 1"
   ]
  },
  {
   "cell_type": "code",
   "execution_count": 38,
   "metadata": {
    "collapsed": false
   },
   "outputs": [],
   "source": [
    "station_map = {}\n",
    "for row in station_dict:\n",
    "    station_map[int(row['키오스크번호'])] = row['명칭']"
   ]
  },
  {
   "cell_type": "code",
   "execution_count": 40,
   "metadata": {
    "collapsed": false
   },
   "outputs": [],
   "source": [
    "station_list = []\n",
    "for i in range(1,227,1):\n",
    "    for j in range(1,227,1):\n",
    "        #print(i,j,trace_count[i][j])\n",
    "        if trace_count[i][j] > 0:\n",
    "            station_list.append((i,j,trace_count[i][j]))\n",
    "            \n",
    "station_list = sorted(station_list, key=itemgetter(2), reverse=True)"
   ]
  },
  {
   "cell_type": "code",
   "execution_count": 44,
   "metadata": {
    "collapsed": false
   },
   "outputs": [],
   "source": [
    "result = []\n",
    "top = 0\n",
    "for i,j,count in station_list:\n",
    "    if top == 10:\n",
    "        break\n",
    "    result.append([station_map[i],str(i),station_map[j],str(j),count])\n",
    "    top += 1"
   ]
  },
  {
   "cell_type": "code",
   "execution_count": null,
   "metadata": {
    "collapsed": true
   },
   "outputs": [],
   "source": []
  }
 ],
 "metadata": {
  "kernelspec": {
   "display_name": "Python [conda root]",
   "language": "python",
   "name": "conda-root-py"
  },
  "language_info": {
   "codemirror_mode": {
    "name": "ipython",
    "version": 3
   },
   "file_extension": ".py",
   "mimetype": "text/x-python",
   "name": "python",
   "nbconvert_exporter": "python",
   "pygments_lexer": "ipython3",
   "version": "3.5.2"
  }
 },
 "nbformat": 4,
 "nbformat_minor": 1
}
