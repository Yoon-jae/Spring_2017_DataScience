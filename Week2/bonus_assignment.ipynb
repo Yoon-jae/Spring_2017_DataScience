{
 "cells": [
  {
   "cell_type": "code",
   "execution_count": 271,
   "metadata": {
    "collapsed": false
   },
   "outputs": [],
   "source": [
    "%matplotlib inline\n",
    "\n",
    "import csv\n",
    "import pandas as pd\n",
    "from operator import itemgetter\n",
    "import pylab\n",
    "import datetime\n",
    "import numpy\n",
    "import matplotlib.image\n",
    "import matplotlib.pyplot as plt\n",
    "from matplotlib import font_manager, rc\n",
    "from operator import itemgetter\n",
    "import numpy as np"
   ]
  },
  {
   "cell_type": "code",
   "execution_count": 272,
   "metadata": {
    "collapsed": true
   },
   "outputs": [],
   "source": [
    "tashu = pd.read_csv('./tashu.csv')\n",
    "station = pd.read_csv('./station.csv')"
   ]
  },
  {
   "cell_type": "code",
   "execution_count": 304,
   "metadata": {
    "collapsed": false
   },
   "outputs": [
    {
     "name": "stdout",
     "output_type": "stream",
     "text": [
      "구별\n",
      "대덕구    23\n",
      "동구     17\n",
      "서구     46\n",
      "유성구    35\n",
      "중구     23\n",
      "Name: 키오스크번호, dtype: int64\n"
     ]
    }
   ],
   "source": [
    "kiosk_per_district_count = station.groupby('구별').키오스크번호.count()\n",
    "#kiosk_per_district_count.sort_values(inplace=True, ascending=False)\n",
    "print(kiosk_per_district_count)"
   ]
  },
  {
   "cell_type": "code",
   "execution_count": 303,
   "metadata": {
    "collapsed": false
   },
   "outputs": [],
   "source": [
    "#[f.name for f in matplotlib.font_manager.fontManager.ttflist]"
   ]
  },
  {
   "cell_type": "code",
   "execution_count": 297,
   "metadata": {
    "collapsed": false
   },
   "outputs": [
    {
     "data": {
      "image/png": "[encoded data removed]",
      "text/plain": [
       "<matplotlib.figure.Figure at 0x11370bd68>"
      ]
     },
     "metadata": {},
     "output_type": "display_data"
    }
   ],
   "source": [
    "plt.title('Number of stations per district')\n",
    "kiosk_per_district_count.plot(kind='bar');\n",
    "plt.axhline(0, color='k')\n",
    "plt.rc('font', family='AppleMyungjo')\n",
    "plt.show()"
   ]
  },
  {
   "cell_type": "code",
   "execution_count": 298,
   "metadata": {
    "collapsed": false
   },
   "outputs": [
    {
     "name": "stdout",
     "output_type": "stream",
     "text": [
      "None\n"
     ]
    }
   ],
   "source": [
    "print(matplotlib.rc('font'))"
   ]
  },
  {
   "cell_type": "code",
   "execution_count": 299,
   "metadata": {
    "collapsed": false
   },
   "outputs": [],
   "source": [
    "kiosk_district_dict = dict(zip(station.키오스크번호, station.구별))\n",
    "#kiosk_district_dict"
   ]
  },
  {
   "cell_type": "code",
   "execution_count": 300,
   "metadata": {
    "collapsed": false
   },
   "outputs": [],
   "source": [
    "import warnings\n",
    "from numpy import *\n",
    "warnings.filterwarnings('ignore')\n",
    "whereAreNaNs = isnan(tashu.RENT_STATION)\n",
    "tashu.RENT_STATION[whereAreNaNs] = 0\n",
    "whereAreNaNs = isnan(tashu.RETURN_STATION)\n",
    "tashu.RETURN_STATION[whereAreNaNs] = 0\n",
    "tashu['RENT_STATION'] = tashu['RENT_STATION'].astype('int')\n",
    "tashu['RETURN_STATION'] = tashu['RETURN_STATION'].astype('int')\n",
    "#tashu[:10]"
   ]
  },
  {
   "cell_type": "code",
   "execution_count": 301,
   "metadata": {
    "collapsed": false
   },
   "outputs": [
    {
     "data": {
      "text/plain": [
       "{'대덕구': 189025, '동구': 123135, '서구': 1594749, '유성구': 1144549, '중구': 257250}"
      ]
     },
     "execution_count": 301,
     "metadata": {},
     "output_type": "execute_result"
    }
   ],
   "source": [
    "usage_per_district = {}\n",
    "for usage in tashu['RENT_STATION']:\n",
    "    if usage in kiosk_district_dict:\n",
    "        if kiosk_district_dict[usage] in usage_per_district:\n",
    "            usage_per_district[kiosk_district_dict[usage]] += 1\n",
    "        else :\n",
    "            usage_per_district[kiosk_district_dict[usage]] = 1\n",
    "\n",
    "            \n",
    "usage_per_district"
   ]
  },
  {
   "cell_type": "code",
   "execution_count": 302,
   "metadata": {
    "collapsed": false
   },
   "outputs": [
    {
     "data": {
      "image/png": "[encoded data removed]",
      "text/plain": [
       "<matplotlib.figure.Figure at 0x114cacef0>"
      ]
     },
     "metadata": {},
     "output_type": "display_data"
    }
   ],
   "source": [
    "X = np.arange(len(usage_per_district))\n",
    "plt.bar(X, usage_per_district.values(), align='center', width=0.5)\n",
    "plt.xticks(X, usage_per_district.keys())\n",
    "plt.rc('font', family='AppleMyungjo')\n",
    "plt.show()"
   ]
  },
  {
   "cell_type": "code",
   "execution_count": null,
   "metadata": {
    "collapsed": true
   },
   "outputs": [],
   "source": []
  }
 ],
 "metadata": {
  "anaconda-cloud": {},
  "kernelspec": {
   "display_name": "Python [conda root]",
   "language": "python",
   "name": "conda-root-py"
  },
  "language_info": {
   "codemirror_mode": {
    "name": "ipython",
    "version": 3
   },
   "file_extension": ".py",
   "mimetype": "text/x-python",
   "name": "python",
   "nbconvert_exporter": "python",
   "pygments_lexer": "ipython3",
   "version": "3.5.2"
  }
 },
 "nbformat": 4,
 "nbformat_minor": 1
}
