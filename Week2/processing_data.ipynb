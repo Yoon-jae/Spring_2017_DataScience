{
 "cells": [
  {
   "cell_type": "code",
   "execution_count": 114,
   "metadata": {
    "collapsed": true
   },
   "outputs": [],
   "source": [
    "import csv"
   ]
  },
  {
   "cell_type": "code",
   "execution_count": 117,
   "metadata": {
    "collapsed": false
   },
   "outputs": [],
   "source": [
    "result = []\n",
    "\n",
    "with open('./Data/2015_02_tashu.csv','r') as f:\n",
    "    content = csv.reader(f, delimiter=',')\n",
    "    for row in content:\n",
    "        for str in range (len(row)):\n",
    "            row[str] = row[str].replace(\"'\",'')\n",
    "        result.append(row)\n",
    "f.close()\n",
    "\n",
    "    \n",
    "with open('./Data/output_2015_02_tashu.csv','w') as ff:\n",
    "    writer = csv.writer(ff, delimiter=',')\n",
    "    for rows in result:\n",
    "        writer.writerow(rows)\n",
    "ff.close()"
   ]
  }
 ],
 "metadata": {
  "anaconda-cloud": {},
  "kernelspec": {
   "display_name": "Python [conda root]",
   "language": "python",
   "name": "conda-root-py"
  },
  "language_info": {
   "codemirror_mode": {
    "name": "ipython",
    "version": 3
   },
   "file_extension": ".py",
   "mimetype": "text/x-python",
   "name": "python",
   "nbconvert_exporter": "python",
   "pygments_lexer": "ipython3",
   "version": "3.5.2"
  }
 },
 "nbformat": 4,
 "nbformat_minor": 1
}
