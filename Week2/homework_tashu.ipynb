{
 "cells": [
  {
   "cell_type": "code",
   "execution_count": 2,
   "metadata": {
    "collapsed": true
   },
   "outputs": [],
   "source": [
    "import csv\n",
    "from operator import itemgetter"
   ]
  },
  {
   "cell_type": "code",
   "execution_count": 1,
   "metadata": {
    "collapsed": true
   },
   "outputs": [],
   "source": [
    "def get_top10_station(tashu_dict, station_dict):\n",
    "    \"\"\"\n",
    "    [역할]\n",
    "    정류장 Top10 출력하기\n",
    "    대여 정류장과 반납정류장을 합한 총 사용빈도수 Top10\n",
    "    \"\"\"\n",
    "\n",
    "    \"\"\"\n",
    "    [입력]\n",
    "    tashu_dict : csv.DictReader 형태의 타슈대여정보\n",
    "    station_dict : csv.DictReader 형태의 정류장 정보\n",
    "    \"\"\"\n",
    "\n",
    "    \"\"\"\n",
    "    [출력]\n",
    "    Top10 정류장 리스트\n",
    "    ex.) [[정류장 이름1, 정류장 번호1, 정류장1 count], [정류장 이름2, 정류장 번호2, 정류장2 count], .....] 형태\n",
    "    \"\"\"\n",
    "    \n",
    "    station_cnt = [0] * (226 + 1)\n",
    "    for row in tashu_dict:\n",
    "        rent_index = row['RENT_STATION']\n",
    "        return_index = row['RETURN_STATION']\n",
    "        if rent_index == '' or return_index == '':\n",
    "            continue\n",
    "        station_cnt[int(rent_index)] += 1\n",
    "        station_cnt[int(return_index)] += 1\n",
    "\n",
    "    station_map = {}\n",
    "    for row in station_dict:\n",
    "        station_map[int(row['키오스크번호'])] = row['명칭']\n",
    "    \n",
    "    station_list = []\n",
    "    for index in range(len(station_cnt)):\n",
    "        station_list.append((index, station_cnt[index]))\n",
    "    station_list = sorted(station_list, key=itemgetter(1), reverse=True)\n",
    "    \n",
    "    result = []\n",
    "    top = 0\n",
    "    for kioki,cnt in station_list:\n",
    "        if top == 10:\n",
    "            break\n",
    "        result.append([station_map[int(kioki)], str(kioki), cnt])\n",
    "        top += 1\n",
    "    \n",
    "    return result"
   ]
  },
  {
   "cell_type": "code",
   "execution_count": 2,
   "metadata": {
    "collapsed": true
   },
   "outputs": [],
   "source": [
    "def get_top10_trace(tashu_dict, station_dict):\n",
    "    \"\"\"\n",
    "    [역할]\n",
    "    경로 Top10 출력하기\n",
    "    (대여정류장, 반납정류장)의 빈도수 Top10\n",
    "\n",
    "    [입력]\n",
    "    tashu_dict : csv.DictReader 형태의 타슈대여정보\n",
    "    station_dict : csv.DictReader 형태의 정류장 정보\n",
    "\n",
    "    [출력]\n",
    "    Top10 경로 리스트\n",
    "    ex.) [[출발정류장 이름1, 출발정류장 번호1, 반납정류장 이름1,\n",
    "        반납정류장 번호2, 경로 count], [출발정류장 이름2, 출발정류장 번호2,\n",
    "        반납정류장 이름2,  반납정류장 번호2, 경로count2], .....] 형태\n",
    "    \"\"\"\n",
    "    \n",
    "    trace_count = [[0]*227 for _ in range(227)]\n",
    "\n",
    "    for row in tashu_dict:\n",
    "        rent_st = row['RENT_STATION']\n",
    "        return_st = row['RETURN_STATION']\n",
    "\n",
    "        if rent_st != '' and return_st != '':\n",
    "            trace_count[int(rent_st)][int(return_st)] += 1\n",
    "            \n",
    "            \n",
    "    station_map = {}\n",
    "    \n",
    "    for row in station_dict:\n",
    "        station_map[int(row['키오스크번호'])] = row['명칭']\n",
    "        \n",
    "    station_list = []\n",
    "    for i in range(1,227,1):\n",
    "        for j in range(1,227,1):\n",
    "            #print(i,j,trace_count[i][j])\n",
    "            if trace_count[i][j] > 0:\n",
    "                station_list.append((i,j,trace_count[i][j]))\n",
    "\n",
    "    station_list = sorted(station_list, key=itemgetter(2), reverse=True)\n",
    "\n",
    "\n",
    "    result = []\n",
    "    top = 0\n",
    "    for i,j,count in station_list:\n",
    "        if top == 10:\n",
    "            break\n",
    "        result.append([station_map[i],str(i),station_map[j],str(j),count])\n",
    "        top += 1\n",
    "    \n",
    "    return result"
   ]
  }
 ],
 "metadata": {
  "anaconda-cloud": {},
  "kernelspec": {
   "display_name": "Python [conda root]",
   "language": "python",
   "name": "conda-root-py"
  },
  "language_info": {
   "codemirror_mode": {
    "name": "ipython",
    "version": 3
   },
   "file_extension": ".py",
   "mimetype": "text/x-python",
   "name": "python",
   "nbconvert_exporter": "python",
   "pygments_lexer": "ipython3",
   "version": "3.5.2"
  }
 },
 "nbformat": 4,
 "nbformat_minor": 1
}
