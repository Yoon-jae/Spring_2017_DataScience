{
 "cells": [
  {
   "cell_type": "code",
   "execution_count": 1,
   "metadata": {
    "collapsed": true
   },
   "outputs": [],
   "source": [
    "import csv\n",
    "from operator import itemgetter"
   ]
  },
  {
   "cell_type": "code",
   "execution_count": 2,
   "metadata": {
    "collapsed": false
   },
   "outputs": [],
   "source": [
    "station_cnt = [0] * (226 + 1)"
   ]
  },
  {
   "cell_type": "code",
   "execution_count": 4,
   "metadata": {
    "collapsed": false
   },
   "outputs": [],
   "source": [
    "tashu_dict = csv.DictReader(open('./Data/tashu.csv','r'))\n",
    "for row in tashu_dict:\n",
    "    rent_index = row['RENT_STATION']\n",
    "    return_index = row['RETURN_STATION']\n",
    "    if rent_index == '' or return_index == '':\n",
    "        continue\n",
    "    station_cnt[int(rent_index)] += 1\n",
    "    station_cnt[int(return_index)] += 1"
   ]
  },
  {
   "cell_type": "code",
   "execution_count": 5,
   "metadata": {
    "collapsed": false
   },
   "outputs": [],
   "source": [
    "station_dict = csv.DictReader(open('./Data/station.csv','r'))\n",
    "station_map = {}\n",
    "for row in station_dict:\n",
    "    station_map[int(row['키오스크번호'])] = row['명칭']"
   ]
  },
  {
   "cell_type": "code",
   "execution_count": 6,
   "metadata": {
    "collapsed": true
   },
   "outputs": [],
   "source": [
    "station_list = []\n",
    "for index in range(len(station_cnt)):\n",
    "    station_list.append((index, station_cnt[index]))\n",
    "station_list = sorted(station_list, key=itemgetter(1), reverse=True)"
   ]
  },
  {
   "cell_type": "code",
   "execution_count": 7,
   "metadata": {
    "collapsed": false
   },
   "outputs": [
    {
     "name": "stdout",
     "output_type": "stream",
     "text": [
      "[[' 한밭수목원(정문입구)', '3', 348977], [' 충대정문(장대네거리)', '56', 182114], ['유성구청', '31', 166866], ['타임월드 앞 ', '17', 165778], [' 홈플러스(유성점)', '32', 147063], ['월평역', '33', 142310], ['둔산 하이마트 앞', '14', 114878], ['카이스트 서쪽 쪽문', '105', 112921], ['카이스트 학사식당 앞', '21', 111715], [' 충대정문오거리 1', '55', 110045]]\n"
     ]
    }
   ],
   "source": [
    "result = []\n",
    "top = 0\n",
    "for kioki,cnt in station_list:\n",
    "    if top == 10:\n",
    "        break\n",
    "    result.append([station_map[int(kioki)], str(kioki), cnt])\n",
    "    top += 1\n",
    "\n",
    "print(result)"
   ]
  },
  {
   "cell_type": "code",
   "execution_count": null,
   "metadata": {
    "collapsed": true
   },
   "outputs": [],
   "source": []
  }
 ],
 "metadata": {
  "anaconda-cloud": {},
  "kernelspec": {
   "display_name": "Python [conda root]",
   "language": "python",
   "name": "conda-root-py"
  },
  "language_info": {
   "codemirror_mode": {
    "name": "ipython",
    "version": 3
   },
   "file_extension": ".py",
   "mimetype": "text/x-python",
   "name": "python",
   "nbconvert_exporter": "python",
   "pygments_lexer": "ipython3",
   "version": "3.5.2"
  }
 },
 "nbformat": 4,
 "nbformat_minor": 1
}
