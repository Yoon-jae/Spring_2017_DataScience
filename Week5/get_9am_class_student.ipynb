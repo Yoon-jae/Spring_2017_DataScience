{
 "cells": [
  {
   "cell_type": "code",
   "execution_count": 65,
   "metadata": {
    "collapsed": true
   },
   "outputs": [],
   "source": [
    "%matplotlib inline\n",
    "\n",
    "import csv\n",
    "import json\n",
    "import numpy as np\n",
    "import pandas as pd\n",
    "import datetime\n",
    "import os.path\n",
    "import matplotlib.image\n",
    "import matplotlib.pyplot as plt"
   ]
  },
  {
   "cell_type": "code",
   "execution_count": 66,
   "metadata": {
    "collapsed": true
   },
   "outputs": [],
   "source": [
    "def readFile(filename):\n",
    "    f = open(filename, 'r')\n",
    "    js = json.loads(f.read())\n",
    "    f.close()\n",
    "    return js"
   ]
  },
  {
   "cell_type": "code",
   "execution_count": 67,
   "metadata": {
    "collapsed": true
   },
   "outputs": [],
   "source": [
    "dates = pd.Series(pd.date_range('2016-04-01', '2016-05-20')).apply(lambda x: x.strftime('%Y%m%d'))"
   ]
  },
  {
   "cell_type": "code",
   "execution_count": 72,
   "metadata": {
    "collapsed": false
   },
   "outputs": [
    {
     "data": {
      "text/plain": [
       "[('08:31', 24),\n",
       " ('08:32', 0),\n",
       " ('08:33', 0),\n",
       " ('08:34', 12),\n",
       " ('08:35', 85),\n",
       " ('08:36', 69),\n",
       " ('08:37', 91),\n",
       " ('08:38', 85),\n",
       " ('08:39', 67),\n",
       " ('08:40', 53)]"
      ]
     },
     "execution_count": 72,
     "metadata": {},
     "output_type": "execute_result"
    }
   ],
   "source": [
    "path = './sokulee/A026/A026_20160407_steps.json'\n",
    "\n",
    "step_data = readFile(path)\n",
    "\n",
    "going_school = 0\n",
    "for time in range(511,540): # 08:31 - 09:00  \n",
    "    if step_data[\"activities-steps-intraday\"][\"dataset\"][time][\"value\"] is not 0: # filter for 9 am student\n",
    "        going_school = going_school + 1\n",
    "\n",
    "step_per_min = []\n",
    "if going_school > 5:\n",
    "    for time in range(511,570):\n",
    "        step_per_min.append((step_data[\"activities-steps-intraday\"][\"dataset\"][time][\"time\"][:5],\n",
    "                            step_data[\"activities-steps-intraday\"][\"dataset\"][time][\"value\"]))\n",
    "        \n",
    "step_per_min[:10]"
   ]
  },
  {
   "cell_type": "code",
   "execution_count": 69,
   "metadata": {
    "collapsed": false
   },
   "outputs": [
    {
     "data": {
      "image/png": "[encoded data removed]",
      "text/plain": [
       "<matplotlib.figure.Figure at 0x115a114e0>"
      ]
     },
     "metadata": {},
     "output_type": "display_data"
    }
   ],
   "source": [
    "df = pd.DataFrame(step_per_min)\n",
    "df.columns = ['Time', 'Steps']\n",
    "df.plot(kind='bar', x = \"Time\", rot=45, legend=False);\n",
    "plt.rc('font', family='AppleMyungjo')\n",
    "take_class_9_am_count = 0plt.show()"
   ]
  },
  {
   "cell_type": "code",
   "execution_count": 152,
   "metadata": {
    "collapsed": true
   },
   "outputs": [],
   "source": [
    "def did_take_class(current_path):\n",
    "    if os.path.exists(current_path): # Day steps\n",
    "\n",
    "        csv_data = readFile(current_path)               \n",
    "    \n",
    "        going_school = 0\n",
    "        listening_lecture = 0\n",
    "\n",
    "        try:\n",
    "            for time in range(511,540): # 08:31 - 09:00  \n",
    "                if csv_data[\"activities-steps-intraday\"][\"dataset\"][time][\"value\"] is not 0: # go to school\n",
    "                    going_school = going_school + 1\n",
    "        \n",
    "            if going_school > 5:\n",
    "                for time in range(541,570): # 09:01 - 09:30\n",
    "                    if csv_data[\"activities-steps-intraday\"][\"dataset\"][time][\"value\"] is 0: # take a class\n",
    "                        listening_lecture = listening_lecture + 1\n",
    "\n",
    "            if listening_lecture >= 15:\n",
    "                print(csv_data[\"activities-steps\"][0][\"dateTime\"])\n",
    "                return True\n",
    "            \n",
    "            return False\n",
    "\n",
    "        except KeyError:\n",
    "            return False\n",
    "    \n",
    "    return False"
   ]
  },
  {
   "cell_type": "code",
   "execution_count": 153,
   "metadata": {
    "collapsed": false
   },
   "outputs": [
    {
     "name": "stdout",
     "output_type": "stream",
     "text": [
      "2016-04-04\n",
      "2016-04-05\n",
      "2016-04-06\n",
      "2016-04-11\n",
      "2016-04-12\n",
      "2016-04-18\n",
      "2016-04-19\n",
      "2016-04-20\n",
      "2016-04-25\n",
      "2016-04-26\n",
      "2016-04-27\n",
      "2016-05-02\n",
      "2016-05-03\n",
      "2016-05-04\n",
      "2016-05-05\n",
      "2016-05-09\n",
      "2016-05-10\n",
      "2016-05-11\n",
      "2016-05-18\n"
     ]
    },
    {
     "data": {
      "text/plain": [
       "19"
      ]
     },
     "execution_count": 153,
     "metadata": {},
     "output_type": "execute_result"
    }
   ],
   "source": [
    "take_class_9_am_count = 0\n",
    "\n",
    "path = './sokulee/A068/A068_'\n",
    "\n",
    "dates_4_1_week = '20160401'\n",
    "weeks_list = []\n",
    "weeks_list.append(pd.Series(pd.date_range('2016-04-04', '2016-04-08')).apply(lambda x: x.strftime('%Y%m%d')))\n",
    "weeks_list.append(pd.Series(pd.date_range('2016-04-11', '2016-04-15')).apply(lambda x: x.strftime('%Y%m%d')))\n",
    "weeks_list.append(pd.Series(pd.date_range('2016-04-18', '2016-04-22')).apply(lambda x: x.strftime('%Y%m%d')))\n",
    "weeks_list.append(pd.Series(pd.date_range('2016-04-25', '2016-04-29')).apply(lambda x: x.strftime('%Y%m%d')))\n",
    "weeks_list.append(pd.Series(pd.date_range('2016-05-02', '2016-05-06')).apply(lambda x: x.strftime('%Y%m%d')))\n",
    "weeks_list.append(pd.Series(pd.date_range('2016-05-09', '2016-05-13')).apply(lambda x: x.strftime('%Y%m%d')))\n",
    "weeks_list.append(pd.Series(pd.date_range('2016-05-16', '2016-05-20')).apply(lambda x: x.strftime('%Y%m%d')))\n",
    "\n",
    "file_path = path + dates_4_1_week + '_steps.json'\n",
    " \n",
    "if did_take_class(file_path):\n",
    "    take_class_9_am_count = take_class_9_am_count + 1\n",
    "\n",
    "for week in weeks_list:\n",
    "    for date in week:\n",
    "        if date is '20160505':\n",
    "            continue\n",
    "        file_path = path + date + '_steps.json'\n",
    "        if did_take_class(file_path):\n",
    "            take_class_9_am_count = take_class_9_am_count + 1\n",
    "\n",
    "take_class_9_am_count\n"
   ]
  },
  {
   "cell_type": "code",
   "execution_count": 145,
   "metadata": {
    "collapsed": false
   },
   "outputs": [
    {
     "data": {
      "text/plain": [
       "[('A01', 8),\n",
       " ('A02', 0),\n",
       " ('A03', 3),\n",
       " ('A04', 3),\n",
       " ('A05', 1),\n",
       " ('A06', 0),\n",
       " ('A07', 13),\n",
       " ('A08', 11),\n",
       " ('A010', 6),\n",
       " ('A016', 4)]"
      ]
     },
     "execution_count": 145,
     "metadata": {},
     "output_type": "execute_result"
    }
   ],
   "source": [
    "user_take_class_9_am_count = []\n",
    "\n",
    "prefix = 'A0'\n",
    "path = './sokulee/' + prefix\n",
    "\n",
    "for user_num in range(1,100):\n",
    "    \n",
    "    take_class_9_am_count = 0\n",
    "    \n",
    "    directory_num = path + str(user_num) + '/'\n",
    "    \n",
    "    if os.path.isdir(directory_num): # User\n",
    "        user = prefix + str(user_num)\n",
    "        \n",
    "        file_path = directory_num + user + \"_\" + dates_4_1_week + '_steps.json'\n",
    "        if did_take_class(file_path):\n",
    "            take_class_9_am_count = take_class_9_am_count + 1\n",
    "            \n",
    "        for week in weeks_list:\n",
    "            for date in week:\n",
    "                if date is '20160505':\n",
    "                    continue\n",
    "                file_path = directory_num + user + \"_\" + date + '_steps.json'    \n",
    "                if did_take_class(file_path):\n",
    "                    take_class_9_am_count = take_class_9_am_count + 1\n",
    "\n",
    "        user_take_class_9_am_count.append((user, take_class_9_am_count))\n",
    "    \n",
    "user_take_class_9_am_count[:10]"
   ]
  },
  {
   "cell_type": "code",
   "execution_count": 146,
   "metadata": {
    "collapsed": false
   },
   "outputs": [
    {
     "data": {
      "text/html": [
       "<div>\n",
       "<table border=\"1\" class=\"dataframe\">\n",
       "  <thead>\n",
       "    <tr style=\"text-align: right;\">\n",
       "      <th></th>\n",
       "      <th>user_number</th>\n",
       "      <th>total_9_am_class</th>\n",
       "    </tr>\n",
       "  </thead>\n",
       "  <tbody>\n",
       "    <tr>\n",
       "      <th>54</th>\n",
       "      <td>A068</td>\n",
       "      <td>19</td>\n",
       "    </tr>\n",
       "    <tr>\n",
       "      <th>53</th>\n",
       "      <td>A065</td>\n",
       "      <td>15</td>\n",
       "    </tr>\n",
       "    <tr>\n",
       "      <th>10</th>\n",
       "      <td>A017</td>\n",
       "      <td>15</td>\n",
       "    </tr>\n",
       "    <tr>\n",
       "      <th>19</th>\n",
       "      <td>A027</td>\n",
       "      <td>15</td>\n",
       "    </tr>\n",
       "    <tr>\n",
       "      <th>22</th>\n",
       "      <td>A030</td>\n",
       "      <td>15</td>\n",
       "    </tr>\n",
       "    <tr>\n",
       "      <th>33</th>\n",
       "      <td>A041</td>\n",
       "      <td>14</td>\n",
       "    </tr>\n",
       "    <tr>\n",
       "      <th>13</th>\n",
       "      <td>A020</td>\n",
       "      <td>14</td>\n",
       "    </tr>\n",
       "    <tr>\n",
       "      <th>24</th>\n",
       "      <td>A032</td>\n",
       "      <td>14</td>\n",
       "    </tr>\n",
       "    <tr>\n",
       "      <th>17</th>\n",
       "      <td>A025</td>\n",
       "      <td>14</td>\n",
       "    </tr>\n",
       "    <tr>\n",
       "      <th>6</th>\n",
       "      <td>A07</td>\n",
       "      <td>13</td>\n",
       "    </tr>\n",
       "  </tbody>\n",
       "</table>\n",
       "</div>"
      ],
      "text/plain": [
       "   user_number  total_9_am_class\n",
       "54        A068                19\n",
       "53        A065                15\n",
       "10        A017                15\n",
       "19        A027                15\n",
       "22        A030                15\n",
       "33        A041                14\n",
       "13        A020                14\n",
       "24        A032                14\n",
       "17        A025                14\n",
       "6          A07                13"
      ]
     },
     "execution_count": 146,
     "metadata": {},
     "output_type": "execute_result"
    }
   ],
   "source": [
    "df = pd.DataFrame(user_take_class_9_am_count)\n",
    "df.columns = ['user_number', 'total_9_am_class']\n",
    "result = df.sort_values(by=['total_9_am_class'], ascending=False)[0:10]\n",
    "result"
   ]
  },
  {
   "cell_type": "code",
   "execution_count": 149,
   "metadata": {
    "collapsed": false
   },
   "outputs": [
    {
     "data": {
      "image/png": "[encoded data removed]",
      "text/plain": [
       "<matplotlib.figure.Figure at 0x116721128>"
      ]
     },
     "metadata": {},
     "output_type": "display_data"
    }
   ],
   "source": [
    "df.plot(kind='bar', x='user_number', rot=45, legend=False);\n",
    "plt.title('Number of take a 9 A.M Class')\n",
    "plt.show()"
   ]
  },
  {
   "cell_type": "code",
   "execution_count": 150,
   "metadata": {
    "collapsed": false
   },
   "outputs": [
    {
     "data": {
      "image/png": "[encoded data removed]",
      "text/plain": [
       "<matplotlib.figure.Figure at 0x1164728d0>"
      ]
     },
     "metadata": {},
     "output_type": "display_data"
    }
   ],
   "source": [
    "result.plot(kind='bar', x='user_number', rot=45, legend=False);\n",
    "plt.title('Top 10 take a 9 A.M Class')\n",
    "plt.show()"
   ]
  },
  {
   "cell_type": "code",
   "execution_count": null,
   "metadata": {
    "collapsed": true
   },
   "outputs": [],
   "source": []
  }
 ],
 "metadata": {
  "anaconda-cloud": {},
  "kernelspec": {
   "display_name": "Python [conda root]",
   "language": "python",
   "name": "conda-root-py"
  },
  "language_info": {
   "codemirror_mode": {
    "name": "ipython",
    "version": 3
   },
   "file_extension": ".py",
   "mimetype": "text/x-python",
   "name": "python",
   "nbconvert_exporter": "python",
   "pygments_lexer": "ipython3",
   "version": "3.5.2"
  }
 },
 "nbformat": 4,
 "nbformat_minor": 1
}
