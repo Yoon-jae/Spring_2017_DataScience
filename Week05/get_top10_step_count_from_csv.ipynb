{
 "cells": [
  {
   "cell_type": "code",
   "execution_count": 9,
   "metadata": {
    "collapsed": true
   },
   "outputs": [],
   "source": [
    "%matplotlib inline\n",
    "\n",
    "import csv\n",
    "import json\n",
    "import numpy as np\n",
    "import pandas as pd\n",
    "import datetime\n",
    "import os.path\n",
    "import matplotlib.image\n",
    "import matplotlib.pyplot as plt"
   ]
  },
  {
   "cell_type": "code",
   "execution_count": 2,
   "metadata": {
    "collapsed": false
   },
   "outputs": [],
   "source": [
    "def readFile(filename):\n",
    "    f = open(filename, 'r')\n",
    "    js = json.loads(f.read())\n",
    "    f.close()\n",
    "    return js"
   ]
  },
  {
   "cell_type": "code",
   "execution_count": 3,
   "metadata": {
    "collapsed": true
   },
   "outputs": [],
   "source": [
    "dates = pd.Series(pd.date_range('2016-04-01', '2016-05-20')).apply(lambda x: x.strftime('%Y%m%d'))\n",
    "\n",
    "user_step_count = []"
   ]
  },
  {
   "cell_type": "code",
   "execution_count": 4,
   "metadata": {
    "collapsed": false
   },
   "outputs": [],
   "source": [
    "prefix = 'A0'\n",
    "full_path = './sokulee/' + prefix\n",
    "\n",
    "for user_num in range(1,100):\n",
    "    directory_num = full_path + str(user_num) + '/'\n",
    "    if os.path.isdir(directory_num):\n",
    "        total_count = 0\n",
    "        user = prefix + str(user_num)\n",
    "        \n",
    "        for date in dates:\n",
    "            current_path = directory_num + user + '_' + date + '_steps.json'\n",
    "            \n",
    "            if os.path.exists(current_path):\n",
    "                csv_data = readFile(current_path)\n",
    "                try:\n",
    "                    total_count = total_count + int(csv_data[\"activities-steps\"][0][\"value\"])\n",
    "                except KeyError:\n",
    "                    pass\n",
    "        \n",
    "        user_step_count.append((user, total_count))"
   ]
  },
  {
   "cell_type": "code",
   "execution_count": 5,
   "metadata": {
    "collapsed": false
   },
   "outputs": [
    {
     "data": {
      "text/html": [
       "<div>\n",
       "<table border=\"1\" class=\"dataframe\">\n",
       "  <thead>\n",
       "    <tr style=\"text-align: right;\">\n",
       "      <th></th>\n",
       "      <th>user_number</th>\n",
       "      <th>total_step</th>\n",
       "    </tr>\n",
       "  </thead>\n",
       "  <tbody>\n",
       "    <tr>\n",
       "      <th>17</th>\n",
       "      <td>A025</td>\n",
       "      <td>1083320</td>\n",
       "    </tr>\n",
       "    <tr>\n",
       "      <th>18</th>\n",
       "      <td>A026</td>\n",
       "      <td>1070291</td>\n",
       "    </tr>\n",
       "    <tr>\n",
       "      <th>35</th>\n",
       "      <td>A043</td>\n",
       "      <td>974336</td>\n",
       "    </tr>\n",
       "    <tr>\n",
       "      <th>37</th>\n",
       "      <td>A045</td>\n",
       "      <td>835907</td>\n",
       "    </tr>\n",
       "    <tr>\n",
       "      <th>51</th>\n",
       "      <td>A062</td>\n",
       "      <td>816567</td>\n",
       "    </tr>\n",
       "    <tr>\n",
       "      <th>44</th>\n",
       "      <td>A054</td>\n",
       "      <td>810861</td>\n",
       "    </tr>\n",
       "    <tr>\n",
       "      <th>60</th>\n",
       "      <td>A083</td>\n",
       "      <td>802587</td>\n",
       "    </tr>\n",
       "    <tr>\n",
       "      <th>12</th>\n",
       "      <td>A019</td>\n",
       "      <td>802587</td>\n",
       "    </tr>\n",
       "    <tr>\n",
       "      <th>11</th>\n",
       "      <td>A018</td>\n",
       "      <td>800509</td>\n",
       "    </tr>\n",
       "    <tr>\n",
       "      <th>30</th>\n",
       "      <td>A038</td>\n",
       "      <td>775284</td>\n",
       "    </tr>\n",
       "  </tbody>\n",
       "</table>\n",
       "</div>"
      ],
      "text/plain": [
       "   user_number  total_step\n",
       "17        A025     1083320\n",
       "18        A026     1070291\n",
       "35        A043      974336\n",
       "37        A045      835907\n",
       "51        A062      816567\n",
       "44        A054      810861\n",
       "60        A083      802587\n",
       "12        A019      802587\n",
       "11        A018      800509\n",
       "30        A038      775284"
      ]
     },
     "execution_count": 5,
     "metadata": {},
     "output_type": "execute_result"
    }
   ],
   "source": [
    "df = pd.DataFrame(user_step_count)\n",
    "df.columns = ['user_number', 'total_step']\n",
    "df = df.drop_duplicates(subset=['user_number'])\n",
    "result = df.sort_values(by=['total_step'], ascending=False)[0:10]\n",
    "result"
   ]
  },
  {
   "cell_type": "code",
   "execution_count": 28,
   "metadata": {
    "collapsed": false
   },
   "outputs": [
    {
     "data": {
      "image/png": "[encoded data removed]",
      "text/plain": [
       "<matplotlib.figure.Figure at 0x116791d68>"
      ]
     },
     "metadata": {},
     "output_type": "display_data"
    }
   ],
   "source": [
    "result.plot(kind='bar', x='user_number', rot=45, legend=False);\n",
    "plt.title('Top 10 steps')\n",
    "plt.show()"
   ]
  },
  {
   "cell_type": "code",
   "execution_count": null,
   "metadata": {
    "collapsed": true
   },
   "outputs": [],
   "source": []
  }
 ],
 "metadata": {
  "anaconda-cloud": {},
  "kernelspec": {
   "display_name": "Python [conda root]",
   "language": "python",
   "name": "conda-root-py"
  },
  "language_info": {
   "codemirror_mode": {
    "name": "ipython",
    "version": 3
   },
   "file_extension": ".py",
   "mimetype": "text/x-python",
   "name": "python",
   "nbconvert_exporter": "python",
   "pygments_lexer": "ipython3",
   "version": "3.5.2"
  }
 },
 "nbformat": 4,
 "nbformat_minor": 1
}
