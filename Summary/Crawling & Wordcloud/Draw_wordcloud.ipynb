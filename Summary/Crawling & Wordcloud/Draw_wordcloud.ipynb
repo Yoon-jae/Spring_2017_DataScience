{
 "cells": [
  {
   "cell_type": "code",
   "execution_count": 8,
   "metadata": {
    "collapsed": true
   },
   "outputs": [],
   "source": [
    "import crawler\n",
    "import extract_noun\n",
    "import sys\n",
    "import random\n",
    "import pytagcloud\n",
    "import webbrowser\n",
    "from collections import Counter "
   ]
  },
  {
   "cell_type": "code",
   "execution_count": 2,
   "metadata": {
    "collapsed": false
   },
   "outputs": [
    {
     "name": "stdout",
     "output_type": "stream",
     "text": [
      "Start crawling 1 page subject..\n",
      "\n",
      "\n",
      "이 주황색 꽃 이름은 뭔가요??[2]\n",
      "우리집 식물들[3]\n",
      "이 큰 풀은 뭔가요??[1]\n",
      "잉글리쉬 라벤더\n",
      "제라늄[1]\n",
      "이 덩쿨 이름이 뭔가요??[5]\n",
      "이꽃이름뭥미[6]\n",
      "꽃이름알려주세요^^[3]\n",
      "장미를 닮은 제라늄 보른홀름의 꽃[1]\n",
      "수박먹다 궁금해져서 질문[4]\n",
      "요즘 관심있는 식물[2]\n",
      "해바라기 키우는데 잎이 노래졌어요[2]\n",
      "살충제요\n",
      "이거 무슨 풀인가요?[3]\n",
      "아빠가 블루베리?를 사왓는데요[5]\n",
      "집 앞 정원에서 이런 꽃나무가 자라던데 이름이 뭔가요?[2]\n",
      "식물들이름과 물주는 주기를 알고 싶어요[1]\n",
      "키우던 장미 줄기에 곰팡이같은거 뭐에요?ㅠㅠ[2]\n",
      "체리 씨앗 심은데서 뭐가 났는데 좀 봐주세요[3]\n",
      "허브키우는데 벌레가 생겼어요.\n",
      "식충식물 추천좀 해주세요\n",
      "기를만한식물추천좀해주세요~\n",
      "가게에서 옛날부터 키우는건데 이름이 뭔가요?[2]\n",
      "선인장이름좀알려주세요[1]\n",
      "얘 이름이 뭐에요?[5]\n",
      "씨앗을 아마존에서 해외직구가능할까요?[5]\n",
      "레몬밤 새싹 도와주세요[1]\n",
      "아 육개장 토란 독때메 고생중[1]\n",
      "식물 이름좀 지어주세요[5]\n",
      "이거 등심붓꽃 아니죠?[2]\n",
      "안녕하세요 식물갤러리 여러분들[2]\n",
      "식물 동정 도움 부탁드립니다[1]\n",
      "이 나무 이름이 뭔가요? 분홍색 털같이 보송보송?한 꽃이있고 향기나요[1]\n",
      "이 식물 이름이 무엇일까요?[1]\n",
      "이꽃 이름은 무엇인가요? 선생님들\n",
      "방울토마토가 왜이럴까요 ㅠㅠ[2]\n",
      "율마가 죽어갑니다 살려주세요ㅠㅠㅠ[2]\n",
      "무시무시한 성장속도[2]\n",
      "식물 이름 좀 알려주세요ㅠ[1]\n",
      "최근에 사온 꽃인데 이름을 까먹었네요 알려주세요 ㅠ[1]\n",
      "선인장이 죽어가는것 같아요ㅜㅜ 도와주세요[4]\n",
      "이 식물 이름이 무엇인가요?? 제발 급해요ㅠㅠ 아이를 살려주세요[3]\n",
      "이 식물 이름 혹시 아시는 분 계신가요? [4]\n",
      "이 꽃 이름이 뭔가요?[1]\n",
      "\n",
      "Crawling 1 page subject complete. 1 sec sleep...\n",
      "\n",
      "Start crawling 1 page content..\n",
      "\n",
      "\n",
      " - dc official App\n",
      "Sleep intentionally 3 sec..\n",
      "쓰레기장에서 주워온 율마는 잘 크고 있습니다.라벤더삽목한 장미1삽목장미2다육주워온 화분에 심은 천냥금, 아이비작년 6월에 씨앗부터 심은 레몬나무,가지를 많이 보기 위해 윗부분을 잘랐다. 아메리칸 블루, 뿌리가 꽉 차서 주워온 화분에 분갈이했다. 꽤 예쁜 화분이라고 생각한다....주워온 토분에 심었던 주워왔던 산세베리아뒤에 주워온 거북이 박제가 보인다.\n",
      "Sleep intentionally 1 sec..\n",
      "집앞에 크게 나 있는 식물인데 뭔가요?\n",
      "Sleep intentionally 3 sec..\n",
      "꽃집에서 3천냥 주고 샀다신중하게 골라서 제일 풍성한걸 가져왔는데집에와서 살펴보니, 목대가 2개였다난 역시 대단하다니까\n",
      "Sleep intentionally 1 sec..\n",
      "변종이라 비싸다 만원 이만원씩한다 하늘에서 제라늄이 떨어졌으면 좋겠다\n",
      "Sleep intentionally 3 sec..\n",
      "아빠가 물어보세용 - dc official App\n",
      "Sleep intentionally 2 sec..\n",
      "이거 집앞꽃집에서 산건데 이름뭔가요?이거밑에 왕이파리좀 정리해줘도되밍? - dc official App\n",
      "Sleep intentionally 2 sec..\n",
      "화원에서 꽃을 샀는데 항상 갔다오면 꽃이름이랑 물을 얼마에 한번씩 줘야하는지 까먹네요..ㅠ꽃이름과 얼마에 한번씩 물주는게 좋은지 알려주세요. 감사합니다^^\n",
      "Sleep intentionally 3 sec..\n",
      "닮았다이제 장미도 먹고살기 힘든 세상이다\n",
      "Sleep intentionally 3 sec..\n",
      "수박은 대표적인 열대과일인데 조선시대와 에도시대 사람들도 즐겨 먹은 걸로 알고 있음. 그렇다면 왜 열대식물(과일)이 경작이 가능한지 알려주십사... 또한 수박은 가능한데 왜 파인애플이나 바나나 망고같은 다른 작물은 정착시키지 않았는지도 궁금 \n",
      "Sleep intentionally 2 sec..\n",
      "마담 레카미에엠마프론벵스트보노들랜드콘트라스트보른홀름제라늄아카시아꽃 장미꽃 튤립 국화를 닮은 변종들신기\n",
      "Sleep intentionally 2 sec..\n",
      "한창 잘자라다가 꽃받침 생기는거 같아서 영양제 사다 꽂아놨거든요 근데 3일만에 잎이 쭈글쭈글해지고 아래 잎들은 노래졌어요. 확인하고 바로 영양제 빼버렸는데 영양제 때문일까요?\n",
      "Sleep intentionally 1 sec..\n",
      "아무살충제 뿌려도 상관없겠죠 진딧물이 많아서 굴러다니는거 아무거나 기져오려고 하는데\n",
      "Sleep intentionally 3 sec..\n",
      "잎 촉감이 까슬까슬하고 추어탕에 뿌리는 재피가루냄새가 납니다.근데 검색해보니 재피나무는 아니네요.\n",
      "Sleep intentionally 1 sec..\n",
      "어떻게 키워야하나요? 몇일에 한번 물줘야해요?현재 상태 올려봅니다.분갈이도 해줘야하나요?\n",
      "Sleep intentionally 3 sec..\n",
      "\n",
      "Sleep intentionally 2 sec..\n",
      "일주일에 한번씩 주고 있는데 시드는것도 있더라구요 이름과 물주는주기를 알고 싶습니다 ㅠㅠ\n",
      "Sleep intentionally 2 sec..\n",
      "성년에날에 엄마가 사준장미인데 그때 꽃병에 물한가득 부어주고 그 이후로 깜빡 잊고있었는데 장미줄기에 이거 왜생긴거에요?\n",
      "Sleep intentionally 3 sec..\n",
      "이게 체리 싹이 맞나요?다른데 사진 찾아보니 뭔가 좀 달라보여서 ..ㅠㅠ\n",
      "Sleep intentionally 1 sec..\n",
      "정말..식물이 안되는 식물고자인데요..선인장도 죽이는 사탄의 손을 가지고 있어요..ㅠㅠ..불쌍해서 식물은 키우지도 말자 다짐했는데..이사와서 자꾸 키우고 싶어서 손님이 놓고간 이름모를꽃하나 와 라벤다 하나를 시작으로..원예사에서 산 로즈마리랑 페퍼민트다이소에서 산 씨앗으로 키운 허브딜 이랑  이름표 잃어버려서 이름 모를 다이소 씨앗표 새싹 하나..요렇게 있는데.. 관심을 너무 줄때마다 식물이 죽어서관심을 좀 덜 주었더니 그런데로 잘 자라서 흐뭇해요.그런데 요즘 집안에 쬐깐한 날파리가 날아다녀서산쪽에 위치한 저희집이 온갖벌레의 온상지라..일주일정도 그런가보다 하고 있었는데모기때문에 비오킬 검색하다가 뿌리파리라는걸보게됐는데 그놈들이더라구요.그래서 아무생각없이 비오킬 스프레이 화분주위에뿌려부고 큰 애들은 잎사귀에 두번 칙칙 뿌려줬는데..옆에 새싹에도 좀 날아갔어요. 큰일난걸까요? ㅠㅠ뿌려놓고 또 걱정이네요.라벤다가 분갈이 하고 부터 시들해서..물도 좀더 주고 영영제도 줬었는데..잎사귀가 축 쳐자고 밑에 부분은 색이 노랗고..가져올땐 쌩쌩했던 로즈마리랑 페퍼민트도분갈아하고 나서 애들이 반은 죽었다가 요세 흙 갈아주고 좀 괜찮아 진거 같더니 벌레가 생겨서걱정아에요. 로즈마리 근처에서는 빨간작은거미같이생긴게 돌아다니던데 대수롭지 않게 넘겼었는데지금 생각해보니 그것도 위험한건가 싶고..밑부분이 누렇게 변하는게 해충때문인건가요?생각지도 않았던 벌레를 알게되서 다행이긴한데..걱정이 늘어서 잠이 안오네요.. 어째야할까요? ㅜ\n",
      "Sleep intentionally 3 sec..\n",
      "제 방에 날벌레가 너무 많아서 눈물이 납니다바구미는 수가 적어서 그렇다치고나방파리뿌리파리이름 모를 날벌레들이제 여름 되면 초파리도 생기겠죠...엄마가 환기를 너무나 좋아하셔서 현관문을 열어놓는데 방충망이 없어서 벌레란 벌레는 다 들어와요...제 방에는 햇빛이 잘 안 들구요 다용도실이랑 연결되어 있는데 벌레가 너무 싫어서 제가 문을 다 닫ㄷ고 살거든요 다용도실에서도 벌레가 무지많아요.. 화장실 바로옆이라 거기서도 벌레가 들어오고 방앞은 주방이라 거기서도 들어오고...근데 엄마가 환기해야된다고 제 방문 열어놓으면 온 집안의 날벌레란 날벌레는 다 제 방으로 오는 것 같아요 죽겠어요 방금도 25마리 잡았어요식충식물을 키우면 서로 win win 아닐까요 사람 하나 살리는 셈 치고작은 날벌레 종류를 잘 먹고 키우기 어렵지 않은 식충식물 한개만 추천해주세요ㅜㅜㅜㅜㅜㅜㅜ\n",
      "Sleep intentionally 3 sec..\n",
      "식물하나키워보려하는데 처음키우거든요가을쯤에꽃피는거로 알려주세요~~ 좀 작은거였으면좋겠네요\n",
      "Sleep intentionally 2 sec..\n",
      "알려주세요 부탁드립니다. 소주병은 물이 담겨있는것으로 깨끗이 세척한것입니다.\n",
      "Sleep intentionally 3 sec..\n",
      "선인장이름이뭔가요???처음엔 선인장이풍성했는데...안쪽부터바싹말라비틀어져서죽어가서 선인장이점점앙상해지는거같네요..ㅠㅠ물은많이주면안된다길래 한두달에한번씩만줬는데 바싹말라죽길래 요즘은물을자주주는편인데...물을자주주는게맞을까요??..ㅠㅠㅠㅠㅠ뭐가문제라서자꾸죽어갈까요....\n",
      "Sleep intentionally 3 sec..\n",
      "꽃이 폈어요 \n",
      "Sleep intentionally 2 sec..\n",
      "레드우드씨앗이랑 러시안 맘모스해바라기씨앗 같은거 통관되나요?커다란 식물 키우는게 꿈입니다.안되더라도 국내에서 구할 수 있는 방법 아시면 공유부탁드립니당.\n",
      "Sleep intentionally 3 sec..\n",
      "다이소에서 씨앗+조그만 화분 세트로 파는 레몬밤입니다.처음 새싹 나왔을땐 푸릇푸릇 상태가 좋았으나갈수록 떡잎이 시들고 죽어갑니다..씨앗 심고 키우는게 초보라 왜그런지 모르겠어요.이것저것 검색해보고 일조량 때문인가 싶어서직사광선 말고 햇빛드는 그늘에 둬보고물이 너무 많았나 싶어서 그냥 지켜둬보고근데 회복될 기미가 보이질 않습니다.지금 심어둔 화분이 물구멍도 없고이 화분 자체가 키우기 힘든 환경이 아닌가 싶어서저면관수식 화분으로 옮겨서 지켜볼까 생각중인데요.가뜩이나 시들시들한 새싹들이 죽는건 아닐까 불안하기도 합니다.고수님들 제발 ㅜㅜ 어떻게 살릴 수 있을까요..그나마 상태좋은 녀석들만이라도 살리고 싶어요.도와주세요. . . ㅜㅜㅜ\n",
      "Sleep intentionally 3 sec..\n",
      "해독방법없나\n",
      "Sleep intentionally 1 sec..\n",
      "어제산 구문초에요  물은 일주일에 2번씩주래요 - dc official App\n",
      "Sleep intentionally 3 sec..\n",
      "조금 다르게 생긴거 같은데 이 꽃이름은 뭘까요??\n",
      "Sleep intentionally 1 sec..\n",
      "저요. 식물갤러리를 보면서 하루하루 지옥같은 생활을 치유하고 있습니다. 정말 감사합니다. 식물갤러리 여러분 그리고 사랑해요\n",
      "Sleep intentionally 1 sec..\n",
      "\n",
      "Sleep intentionally 3 sec..\n",
      "이쁘고 향기가좋아서 궁금해요\n",
      "Sleep intentionally 1 sec..\n",
      "노란색 꽃이 피고 풀같이 끈적한 액체가 나오는 식물입니다. 이름이 무엇인가요?\n",
      "Sleep intentionally 1 sec..\n",
      "감사합니다\n",
      "Sleep intentionally 3 sec..\n",
      "너무 좁은곳에 있어서 이런걸까요??\n",
      "Sleep intentionally 1 sec..\n",
      "살려주세여ㅠㅠ 저와 3달정도 같이살앗는데몇일 만에 갑자기 이렇게 됐네요.잎이 갈색으로 변한것도 있고줄기가 검게 타버린 것도 있습니다.어떻게 관리해야될까요\n",
      "Sleep intentionally 1 sec..\n",
      "위 토요일 아침아래 방금 전일조량이 더 많으면 밀림도 가능할 것 같음\n",
      "Sleep intentionally 3 sec..\n",
      "제곧네\n",
      "Sleep intentionally 1 sec..\n",
      "ㅇㅇ\n",
      "Sleep intentionally 2 sec..\n",
      "작년 가을부터 키우던 선인장 백도선이에요ㅜㅜ원래는 가운데 세개 밖에 없었지만 자구도 여러개 올라오고 잘 크고 있었는데 최근에 갑자기 저렇게 자구가 노란색으로 변하기 시작했어요 왼쪽 자구 위에 올라온 조그만 건 원래 더 컸었는데 노란색으로 변하기 시작하면서부터 쪼그라들었어요.. 오른쪽 자구도 노란색으로 변하면서점점 쪼그라들고 있어요ㅠㅠ 여름이 되면서 강한 직사광선을 받아서 일까요? 아니면 화분이 너무 작은 탓일까요ㅠㅠ문제를 모르겠어요 ㅠㅠ 도와주세요 고수님들!!!!!영양제를 사서 넣어줘야하려나요ㅜㅜ흑흑\n",
      "Sleep intentionally 2 sec..\n",
      "ㅠㅠㅠㅠㅠㅠㅠ\n",
      "Sleep intentionally 2 sec..\n",
      "저희집 냥이들이 자주 먹고 가끔 토하기도 해서냥이들이 식용 가능한건지 궁금합니다!좋은 하루 되세요 :)\n",
      "Sleep intentionally 1 sec..\n",
      "제가 화단을 가꿔보려고 여러종류 꽃을 심었는데,제가 심은 기억이 없는 꽃이 피었습니다.이 꽃 이름이 뭔가요? - dc official App\n",
      "Sleep intentionally 3 sec..\n",
      "\n",
      "Crawling 1 page content complete.\n",
      "\n"
     ]
    }
   ],
   "source": [
    "crawled_text = crawler.DC_Crawler('tree', 1).crawl()"
   ]
  },
  {
   "cell_type": "code",
   "execution_count": 3,
   "metadata": {
    "collapsed": true
   },
   "outputs": [],
   "source": [
    "extractor = extract_noun.Noun_extractor()"
   ]
  },
  {
   "cell_type": "code",
   "execution_count": 6,
   "metadata": {
    "collapsed": false
   },
   "outputs": [],
   "source": [
    "nouns = extractor.extract(crawled_text)"
   ]
  },
  {
   "cell_type": "code",
   "execution_count": 10,
   "metadata": {
    "collapsed": false
   },
   "outputs": [],
   "source": [
    "count = Counter(nouns)\n",
    "r = lambda: random.randint(0, 255)\n",
    "color = lambda: (r(), r(), r())"
   ]
  },
  {
   "cell_type": "code",
   "execution_count": 13,
   "metadata": {
    "collapsed": false
   },
   "outputs": [],
   "source": [
    "tags = [{'color': color(), 'tag': n, 'size': c*10} \n",
    "        for n, c in count.most_common(20)]"
   ]
  },
  {
   "cell_type": "code",
   "execution_count": null,
   "metadata": {
    "collapsed": true
   },
   "outputs": [],
   "source": []
  }
 ],
 "metadata": {
  "anaconda-cloud": {},
  "kernelspec": {
   "display_name": "Python [conda root]",
   "language": "python",
   "name": "conda-root-py"
  },
  "language_info": {
   "codemirror_mode": {
    "name": "ipython",
    "version": 3
   },
   "file_extension": ".py",
   "mimetype": "text/x-python",
   "name": "python",
   "nbconvert_exporter": "python",
   "pygments_lexer": "ipython3",
   "version": "3.5.2"
  }
 },
 "nbformat": 4,
 "nbformat_minor": 2
}
