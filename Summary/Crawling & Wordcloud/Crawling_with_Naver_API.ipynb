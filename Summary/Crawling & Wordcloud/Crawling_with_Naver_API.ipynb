{
 "cells": [
  {
   "cell_type": "markdown",
   "metadata": {},
   "source": [
    "# Naver API Blog"
   ]
  },
  {
   "cell_type": "code",
   "execution_count": 1,
   "metadata": {
    "collapsed": false
   },
   "outputs": [],
   "source": [
    "import os\n",
    "import sys\n",
    "import urllib.request\n",
    "import json\n",
    "import numpy as np\n",
    "from collections import Counter\n",
    "\n",
    "from konlpy.tag import *\n",
    "\n",
    "import pytagcloud\n",
    "\n",
    "import codecs\n",
    "\n",
    "from IPython.display import Image\n",
    "\n",
    "client_id = \"YOUR_NAVER_API_ID\"\n",
    "client_secret = \"YOUR_NAVER_API_SECRET\"\n",
    "\n",
    "encText = urllib.parse.quote(\"미세먼지\")\n",
    "\n",
    "url = \"https://openapi.naver.com/v1/search/blog?query=\" + encText # json 결과\n",
    "\n",
    "request = urllib.request.Request(url)\n",
    "request.add_header(\"X-Naver-Client-Id\",client_id)\n",
    "request.add_header(\"X-Naver-Client-Secret\",client_secret)\n",
    "response = urllib.request.urlopen(request)\n",
    "rescode = response.getcode()\n",
    "\n",
    "global text\n",
    "\n",
    "if(rescode==200):\n",
    "    response_body = response.read()\n",
    "    text = response_body.decode('utf-8')\n",
    "else:\n",
    "    print(\"Error Code:\" + rescode)"
   ]
  },
  {
   "cell_type": "code",
   "execution_count": 2,
   "metadata": {
    "collapsed": true
   },
   "outputs": [],
   "source": [
    "parsed = json.loads(text)"
   ]
  },
  {
   "cell_type": "code",
   "execution_count": 3,
   "metadata": {
    "collapsed": false
   },
   "outputs": [
    {
     "data": {
      "text/plain": [
       "'<b>미세먼지</b>로 고민하시는 분들을 위해서 오늘의 추천 아이템 <b>미세먼지</b>화장품 수네이처 투스텝 클렌징 파우더 입니다~ 요즘은 <b>미세먼지</b> 없는 깨끗한 하늘이지만 한동안 <b>미세먼지</b>트러블로 고민했던 일인으로서... <b>미세먼지</b> 측정기 있으니 안심된다 :D 하루에도 몇 번씩 확인하는 <b>미세먼지</b> 앱 저렇게 무서운 악마가 뜰 때면 내 마음도.. 흑흑 근데 과연 우리집 실내 혹은 우리 아파트단지 안 <b>미세먼지</b> 수치도 저것과... 전부터 지금까지 <b>미세먼지</b>로 많은 고생을 했죠~!! 뉴스에서 보는 우리나라를 뒤덮은 <b>미세먼지</b> 사진을 보며 경악을 금치 못했는데요 !! 그래서 <b>미세먼지</b>예방법 본인이 가장 먼저 지켜야 주위도 지킬 수 있는... <b>미세먼지</b>공기청정기추천 세상에서 제일 깨끗하게~! 어제는 일끝난후 기분 삼삼하여 전에 술할잔할까싶어 찾아간대 가 있었네요. 정구지전을 시켜보았어요 한장 처넌 받다 작년부터 5배건 대폭 인상!! 두장이... 서울 <b>미세먼지</b> 농도 중국넘어서다(초심각) 중국 대련에서 유학중인 친구를 만나기 위해 여행겸 겸사겸사 틈이 날때면 중국 여행을 많이 다니곤 하는데요~! 심각한 날에는 대기중의 먼지가 육안으로 보이기도... 강원도 강릉 <b>미세먼지</b> 농도 이렇게 될줄이야..(미쳤다) 저는 강원도 강릉에 거주하고 있는데요. 청정지역이라고만 믿었던 강릉까지도 <b>미세먼지</b>앞에서는 완전 무릎을 꿇었네요. 청정지역에 살고 있다고 자부하고... 면역력 높이는 방법, <b>미세먼지</b> 걱정 NO! 전국적으로 1~2일 동안 봄비가 내렸지만, <b>미세먼지</b>는 여전하다. 이에 재채기, 코막힘 등의 증상을 동반한 알레르기성 비염을 겪는 이들이 꾸준히 늘고 있다. 그렇다면... <b>미세먼지</b>에 좋은 음식, 이거면 끄떡없다? <b>미세먼지</b>는 폐에 흡착돼 호흡기 및 폐 질환을 유발하는 주요 원인이다. 실제로 질병관리본부 조사에 따르면 <b>미세먼지</b> 농도가 10㎲/㎥ 증가할 때마다 만성 폐쇄성... 광주 <b>미세먼지</b> 매우 나쁨 실화인가요??? 안녕하세요~ 저는 현재 중국 광저우에서 유학을 4달 째 하고 있는데요~ 새로운 환경에 새로운 사람들과 지내다보니 낯설기도 하고 하루하루가 새롭기도 하고 그렇답니다... <b>미세먼지</b>예방법비교분석&lt;내몸사용설명서&gt; 포근한날씨가이어지지만중국에서넘어오는뿌연<b>미세먼지</b>가며칠째하늘을뒤덮고있다 이제는아침에일어나자마자<b>미세먼지</b>농도를확인하는일이일상화가되었지만... '"
      ]
     },
     "execution_count": 3,
     "metadata": {},
     "output_type": "execute_result"
    }
   ],
   "source": [
    "index = parsed['display']\n",
    "data = \"\"\n",
    "\n",
    "for i in range(index):\n",
    "    data = data + parsed['items'][i]['description']\n",
    "    \n",
    "data"
   ]
  },
  {
   "cell_type": "code",
   "execution_count": 4,
   "metadata": {
    "collapsed": true
   },
   "outputs": [],
   "source": [
    "text_file = open(\"wordcloud_data_blog.txt\", \"w\")\n",
    "text_file.write(data)\n",
    "text_file.close()"
   ]
  },
  {
   "cell_type": "markdown",
   "metadata": {},
   "source": [
    "# Naver API news"
   ]
  },
  {
   "cell_type": "code",
   "execution_count": 5,
   "metadata": {
    "collapsed": false
   },
   "outputs": [],
   "source": [
    "import os\n",
    "import sys\n",
    "import urllib.request\n",
    "import json\n",
    "import numpy as np\n",
    "from collections import Counter\n",
    "\n",
    "from konlpy.tag import *\n",
    "\n",
    "import pytagcloud\n",
    "\n",
    "import codecs\n",
    "\n",
    "from IPython.display import Image\n",
    "client_id = \"6Qo8E1r9aoKUBI69HgO6\"\n",
    "client_secret = \"VIqiu7FEdj\"\n",
    "\n",
    "encText = urllib.parse.quote(\"미세먼지\")\n",
    "\n",
    "url = \"https://openapi.naver.com/v1/search/news?query=\" + encText # json 결과\n",
    "request = urllib.request.Request(url)\n",
    "request.add_header(\"X-Naver-Client-Id\",client_id)\n",
    "request.add_header(\"X-Naver-Client-Secret\",client_secret)\n",
    "response = urllib.request.urlopen(request)\n",
    "rescode = response.getcode()\n",
    "\n",
    "global text\n",
    "\n",
    "if(rescode==200):\n",
    "    response_body = response.read()\n",
    "    text = response_body.decode('utf-8')\n",
    "else:\n",
    "    print(\"Error Code:\" + rescode)"
   ]
  },
  {
   "cell_type": "code",
   "execution_count": 6,
   "metadata": {
    "collapsed": true
   },
   "outputs": [],
   "source": [
    "parsed = json.loads(text)"
   ]
  },
  {
   "cell_type": "code",
   "execution_count": 7,
   "metadata": {
    "collapsed": false
   },
   "outputs": [
    {
     "data": {
      "text/plain": [
       "\"또한 숲의 생태와 효용, <b>미세먼지</b> 등 숲을 주제로 한 다양한 프로그램을 체험할 수 있다. 여고생이면 누구나 참가지원 가능하고 7월 6일(목)까지 우푸푸 블로그(www.woopoopoo.net)를 통해 신청할 수 있다. 최종 참가자는 7월... 다음으로 오기출 푸른아시아 사무총장이 '왜 숲은 천 개의 복을 불러오는가?'를 주제로 요즘 이슈가 되고 있는 <b>미세먼지</b>와 기후변화에 대해 발표를 진행했다. 오 사무총장은 현재 지구에서 발생 중인 기후변화를 설명하고... 이 대표는 “현대인의 정신적 스트레스와 <b>미세먼지</b> 등 환경문제로 인한 피부 트러블을 해소하기 위한 비움과 깨끗함을 상징한다”고 설명했다. 니코보코는 ‘외부 유해요소를 깨끗이 씻어내고 트러블피부에 최적의... 특히 로제앙뜨 아쿠아 리프레시 수분크림과 로제앙뜨 비비크림 앤 파운데이션(에어쿠션)은 외부에서 들어오는 <b>미세먼지</b>를 포함한 유해물질로부터 피부를 보호하는 기능이 있어 중국 소비자들에게 큰 관심을 받았다. 또... 『의정부시\\xa0<b>미세먼지</b>로\\xa0인한\\xa0대기오염\\xa0피해\\xa0저감\\xa0및\\xa0지원에\\xa0관한\\xa0조례안』은\\xa0수정가결하였다. \\xa0 또한\\xa0『의정부시보건소수가조례\\xa0일부개정조례안』은\\xa0원안가결하였다. \\xa0 구구회\\xa0의원은『의정부시\\xa0호원동... 특히 토랄 알러지 집진 케어로 큰 <b>먼지</b>와 황사/초<b>미세먼지</b>,알러지 유발물질등을 제거가능하며, 생활냄새 제거, 새집증후군 원인물질 제거, 스머그 원인물질 제거등의 기능을 가지고 있다. 또 이온을 배출하여... 또한 종합학술대회 개회식에서 대한의사협회는 국민건강 최대 관심사인 '<b>미세먼지</b>'를 비롯한 10개 항목을 선정하여 &quot;대국민 건강 선언문&quot;을 발표한다. 이번 대회는 미국, 일본 대만 등 세계의사회 소속 수장들이 참석하고... <b>미세먼지</b>\\xa0악화와\\xa0더불어\\xa0LG\\xa0퓨리케어\\xa0공기청정기\\xa0렌탈\\xa0주문량도\\xa0늘고\\xa0있다. \\xa0최근\\xa0출시된\\xa0퓨리케어\\xa0360도\\xa0공기청정기(AS181DRWT,\\xa0AS281SRWT)와\\xa0퓨리케어\\xa0몽블랑D\\xa0공기청정기\\xa0렌탈(AS161DRWT,\\xa0AS251DRWT)\\xa0역시... 명의 인터뷰 - 이상표 가천대길병원 호흡기내과 교수 황사마스크 쓴다고 해도 <b>미세먼지</b> 완전 차단 한계 공기 중 <b>미세먼지</b>에서 바이러스 아직 검출안돼 외출 자제 필요하지만 너무 예민한 반응 자제를 [ 이지현 기자 ]... 서산태안환경운동연합 '<b>미세먼지</b> 측정과 분석방법' 시민강좌 열어 [오마이뉴스신영근 기자] ▲ \\xa0서산태안환경운동연합은 19일 '<b>미세먼지</b> 완전분석'강좌를 열고 실제 측정기구를 이용한 간단한 <b>미세먼지</b> 측정과 측정기... \""
      ]
     },
     "execution_count": 7,
     "metadata": {},
     "output_type": "execute_result"
    }
   ],
   "source": [
    "index = parsed['display']\n",
    "data = \"\"\n",
    "\n",
    "for i in range(index):\n",
    "    data = data + parsed['items'][i]['description']\n",
    "    \n",
    "data"
   ]
  },
  {
   "cell_type": "code",
   "execution_count": 8,
   "metadata": {
    "collapsed": true
   },
   "outputs": [],
   "source": [
    "text_file = open(\"wordcloud_data_news.txt\", \"w\")\n",
    "text_file.write(data)\n",
    "text_file.close()"
   ]
  }
 ],
 "metadata": {
  "anaconda-cloud": {},
  "kernelspec": {
   "display_name": "Python [conda root]",
   "language": "python",
   "name": "conda-root-py"
  },
  "language_info": {
   "codemirror_mode": {
    "name": "ipython",
    "version": 3
   },
   "file_extension": ".py",
   "mimetype": "text/x-python",
   "name": "python",
   "nbconvert_exporter": "python",
   "pygments_lexer": "ipython3",
   "version": "3.5.2"
  }
 },
 "nbformat": 4,
 "nbformat_minor": 2
}
