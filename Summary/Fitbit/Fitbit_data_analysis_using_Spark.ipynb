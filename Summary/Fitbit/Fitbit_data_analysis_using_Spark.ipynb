{
 "cells": [
  {
   "cell_type": "code",
   "execution_count": 1,
   "metadata": {
    "collapsed": false
   },
   "outputs": [
    {
     "data": {
      "text/plain": [
       "<pyspark.context.SparkContext at 0x7fbb2059dd68>"
      ]
     },
     "execution_count": 1,
     "metadata": {},
     "output_type": "execute_result"
    }
   ],
   "source": [
    "sc"
   ]
  },
  {
   "cell_type": "code",
   "execution_count": 2,
   "metadata": {
    "collapsed": false
   },
   "outputs": [],
   "source": [
    "from pyspark.sql.functions import *\n",
    "from pyspark.sql import *\n",
    "from pyspark.sql.types import *\n",
    "from pyspark.ml.clustering import KMeans\n",
    "import pandas as pd\n",
    "import json\n",
    "import numpy as np"
   ]
  },
  {
   "cell_type": "code",
   "execution_count": 3,
   "metadata": {
    "collapsed": true
   },
   "outputs": [],
   "source": [
    "def readFile(filename):\n",
    "    f = open(filename, 'r')\n",
    "    js = json.loads(f.read())\n",
    "    f.close()\n",
    "    return js"
   ]
  },
  {
   "cell_type": "markdown",
   "metadata": {},
   "source": [
    "# Get total wearing minutes(heart), sleep minutes, steps count data"
   ]
  },
  {
   "cell_type": "markdown",
   "metadata": {},
   "source": [
    "## No Spark ver."
   ]
  },
  {
   "cell_type": "code",
   "execution_count": 9,
   "metadata": {
    "collapsed": false
   },
   "outputs": [
    {
     "name": "stdout",
     "output_type": "stream",
     "text": [
      "heart_list: [57524, 57854, 66945, 57192, 62214, 45397, 62986, 57398, 54681, 32360, 57866, 55362, 35754, 67345, 69617, 5840, 52492, 49228, 69162, 66474, 61600, 66944, 64943, 58326, 38566, 31208, 35154, 66709, 56953, 65818, 64943, 38971, 59812, 43689, 69194, 64064, 39214, 16860, 38367, 67086, 66474, 64064, 65933, 57969, 53690, 67105, 68557, 70112, 65616, 60539, 66944, 68872, 13217, 47166, 63309, 38566, 66267, 36595, 60036, 32360, 54839, 63347, 65125, 60753, 37975, 64497, 65818, 59311]\n",
      "sleep_list: [19667, 14468, 16604, 17694, 18038, 13576, 14777, 12421, 10518, 8750, 18471, 16994, 9314, 18602, 18638, 6880, 13601, 16302, 18544, 23097, 19536, 18929, 16073, 19270, 10493, 7290, 8578, 18159, 13022, 19038, 16073, 11316, 14696, 12027, 19527, 19146, 11110, 678, 6371, 21080, 23097, 20139, 17990, 16411, 10659, 17510, 19953, 21391, 16215, 21356, 18598, 20921, 2816, 14958, 13319, 10493, 17119, 9153, 18336, 8424, 12472, 22128, 13302, 16262, 3362, 16751, 18642, 13396]\n",
      "steps_list: [421421, 676258, 1070291, 289223, 974336, 406062, 544578, 477748, 759414, 414915, 391302, 357887, 276376, 728916, 835907, 127678, 503583, 665433, 697669, 464660, 290324, 626213, 294072, 266725, 502283, 325301, 380282, 800509, 727438, 802587, 289141, 343124, 580578, 626306, 584462, 413353, 351518, 295227, 535526, 458095, 464660, 413353, 688864, 574088, 816567, 409936, 584932, 325833, 667043, 270693, 616758, 439406, 205815, 244243, 1083320, 489414, 810861, 317873, 499193, 414915, 443310, 413737, 559912, 385730, 563457, 423731, 802587, 775284]\n"
     ]
    }
   ],
   "source": [
    "heart_list = []\n",
    "sleep_list = []\n",
    "steps_list = []\n",
    "\n",
    "users = []\n",
    "dirs = []\n",
    "\n",
    "for file in os.listdir(\"sokulee\"):\n",
    "    dirs.append(\"sokulee/\" + file)\n",
    "    users.append(file)\n",
    "\n",
    "for dir in dirs:\n",
    "    steps = 0\n",
    "    heart = 0\n",
    "    sleep = 0\n",
    "    \n",
    "    for file in os.listdir(dir):\n",
    "        if file.endswith(\"steps.json\"):\n",
    "            try:\n",
    "                step_js = readFile(dir + \"/\" + file)\n",
    "                steps += int(step_js['activities-steps'][0]['value'])\n",
    "            except:\n",
    "                pass\n",
    "                \n",
    "        if file.endswith(\"heart.json\"):\n",
    "            try:\n",
    "                heart_js = readFile(dir + \"/\" + file)\n",
    "                heart += int(heart_js['activities-heart'][0]['value']['heartRateZones'][0][\"minutes\"])\n",
    "                heart += int(heart_js['activities-heart'][0]['value']['heartRateZones'][1][\"minutes\"])\n",
    "                heart += int(heart_js['activities-heart'][0]['value']['heartRateZones'][2][\"minutes\"])\n",
    "                heart += int(heart_js['activities-heart'][0]['value']['heartRateZones'][3][\"minutes\"])\n",
    "            except:\n",
    "                pass\n",
    "                \n",
    "        if file.endswith(\"sleep.json\"):\n",
    "            try: \n",
    "                sleep_js = readFile(dir + \"/\" + file)\n",
    "                sleep += int(sleep_js['summary']['totalMinutesAsleep'])\n",
    "            except:\n",
    "                pass\n",
    "                \n",
    "    steps_list.append(steps)\n",
    "    heart_list.append(heart)\n",
    "    sleep_list.append(sleep)\n",
    "    \n",
    "print('heart_list:', heart_list)\n",
    "print('sleep_list:', sleep_list)\n",
    "print('steps_list:', steps_list)"
   ]
  },
  {
   "cell_type": "code",
   "execution_count": 10,
   "metadata": {
    "collapsed": false
   },
   "outputs": [
    {
     "data": {
      "text/html": [
       "<div>\n",
       "<table border=\"1\" class=\"dataframe\">\n",
       "  <thead>\n",
       "    <tr style=\"text-align: right;\">\n",
       "      <th></th>\n",
       "      <th>heart</th>\n",
       "      <th>sleep</th>\n",
       "      <th>steps</th>\n",
       "      <th>user</th>\n",
       "    </tr>\n",
       "  </thead>\n",
       "  <tbody>\n",
       "    <tr>\n",
       "      <th>0</th>\n",
       "      <td>57524</td>\n",
       "      <td>19667</td>\n",
       "      <td>421421</td>\n",
       "      <td>A028</td>\n",
       "    </tr>\n",
       "    <tr>\n",
       "      <th>1</th>\n",
       "      <td>57854</td>\n",
       "      <td>14468</td>\n",
       "      <td>676258</td>\n",
       "      <td>A020</td>\n",
       "    </tr>\n",
       "    <tr>\n",
       "      <th>2</th>\n",
       "      <td>66945</td>\n",
       "      <td>16604</td>\n",
       "      <td>1070291</td>\n",
       "      <td>A026</td>\n",
       "    </tr>\n",
       "    <tr>\n",
       "      <th>3</th>\n",
       "      <td>57192</td>\n",
       "      <td>17694</td>\n",
       "      <td>289223</td>\n",
       "      <td>A053</td>\n",
       "    </tr>\n",
       "    <tr>\n",
       "      <th>4</th>\n",
       "      <td>62214</td>\n",
       "      <td>18038</td>\n",
       "      <td>974336</td>\n",
       "      <td>A043</td>\n",
       "    </tr>\n",
       "  </tbody>\n",
       "</table>\n",
       "</div>"
      ],
      "text/plain": [
       "   heart  sleep    steps  user\n",
       "0  57524  19667   421421  A028\n",
       "1  57854  14468   676258  A020\n",
       "2  66945  16604  1070291  A026\n",
       "3  57192  17694   289223  A053\n",
       "4  62214  18038   974336  A043"
      ]
     },
     "execution_count": 10,
     "metadata": {},
     "output_type": "execute_result"
    }
   ],
   "source": [
    "fitbit_df = pd.DataFrame({'user':users, 'heart':heart_list, 'sleep':sleep_list, 'steps':steps_list})\n",
    "fitbit_df.head()"
   ]
  },
  {
   "cell_type": "markdown",
   "metadata": {},
   "source": [
    "### Top 5 users for each category"
   ]
  },
  {
   "cell_type": "code",
   "execution_count": 11,
   "metadata": {
    "collapsed": true
   },
   "outputs": [],
   "source": [
    "fitbit_df.sort_values('heart', ascending=False, inplace=True)\n",
    "heart_top5 = fitbit_df[:5]\n",
    "\n",
    "fitbit_df.sort_values('sleep', ascending=False, inplace=True)\n",
    "sleep_top5 = fitbit_df[:5]\n",
    "\n",
    "fitbit_df.sort_values('steps', ascending=False, inplace=True)\n",
    "steps_top5 = fitbit_df[:5]"
   ]
  },
  {
   "cell_type": "code",
   "execution_count": 12,
   "metadata": {
    "collapsed": false
   },
   "outputs": [
    {
     "data": {
      "text/html": [
       "<div>\n",
       "<table border=\"1\" class=\"dataframe\">\n",
       "  <thead>\n",
       "    <tr style=\"text-align: right;\">\n",
       "      <th></th>\n",
       "      <th>heart</th>\n",
       "      <th>sleep</th>\n",
       "      <th>steps</th>\n",
       "      <th>user</th>\n",
       "    </tr>\n",
       "  </thead>\n",
       "  <tbody>\n",
       "    <tr>\n",
       "      <th>47</th>\n",
       "      <td>70112</td>\n",
       "      <td>21391</td>\n",
       "      <td>325833</td>\n",
       "      <td>A049</td>\n",
       "    </tr>\n",
       "    <tr>\n",
       "      <th>14</th>\n",
       "      <td>69617</td>\n",
       "      <td>18638</td>\n",
       "      <td>835907</td>\n",
       "      <td>A045</td>\n",
       "    </tr>\n",
       "    <tr>\n",
       "      <th>34</th>\n",
       "      <td>69194</td>\n",
       "      <td>19527</td>\n",
       "      <td>584462</td>\n",
       "      <td>A07</td>\n",
       "    </tr>\n",
       "    <tr>\n",
       "      <th>18</th>\n",
       "      <td>69162</td>\n",
       "      <td>18544</td>\n",
       "      <td>697669</td>\n",
       "      <td>A017</td>\n",
       "    </tr>\n",
       "    <tr>\n",
       "      <th>51</th>\n",
       "      <td>68872</td>\n",
       "      <td>20921</td>\n",
       "      <td>439406</td>\n",
       "      <td>A022</td>\n",
       "    </tr>\n",
       "  </tbody>\n",
       "</table>\n",
       "</div>"
      ],
      "text/plain": [
       "    heart  sleep   steps  user\n",
       "47  70112  21391  325833  A049\n",
       "14  69617  18638  835907  A045\n",
       "34  69194  19527  584462   A07\n",
       "18  69162  18544  697669  A017\n",
       "51  68872  20921  439406  A022"
      ]
     },
     "execution_count": 12,
     "metadata": {},
     "output_type": "execute_result"
    }
   ],
   "source": [
    "heart_top5"
   ]
  },
  {
   "cell_type": "code",
   "execution_count": 13,
   "metadata": {
    "collapsed": false
   },
   "outputs": [
    {
     "data": {
      "text/html": [
       "<div>\n",
       "<table border=\"1\" class=\"dataframe\">\n",
       "  <thead>\n",
       "    <tr style=\"text-align: right;\">\n",
       "      <th></th>\n",
       "      <th>heart</th>\n",
       "      <th>sleep</th>\n",
       "      <th>steps</th>\n",
       "      <th>user</th>\n",
       "    </tr>\n",
       "  </thead>\n",
       "  <tbody>\n",
       "    <tr>\n",
       "      <th>40</th>\n",
       "      <td>66474</td>\n",
       "      <td>23097</td>\n",
       "      <td>464660</td>\n",
       "      <td>A027</td>\n",
       "    </tr>\n",
       "    <tr>\n",
       "      <th>19</th>\n",
       "      <td>66474</td>\n",
       "      <td>23097</td>\n",
       "      <td>464660</td>\n",
       "      <td>A065</td>\n",
       "    </tr>\n",
       "    <tr>\n",
       "      <th>61</th>\n",
       "      <td>63347</td>\n",
       "      <td>22128</td>\n",
       "      <td>413737</td>\n",
       "      <td>A047</td>\n",
       "    </tr>\n",
       "    <tr>\n",
       "      <th>47</th>\n",
       "      <td>70112</td>\n",
       "      <td>21391</td>\n",
       "      <td>325833</td>\n",
       "      <td>A049</td>\n",
       "    </tr>\n",
       "    <tr>\n",
       "      <th>49</th>\n",
       "      <td>60539</td>\n",
       "      <td>21356</td>\n",
       "      <td>270693</td>\n",
       "      <td>A058</td>\n",
       "    </tr>\n",
       "  </tbody>\n",
       "</table>\n",
       "</div>"
      ],
      "text/plain": [
       "    heart  sleep   steps  user\n",
       "40  66474  23097  464660  A027\n",
       "19  66474  23097  464660  A065\n",
       "61  63347  22128  413737  A047\n",
       "47  70112  21391  325833  A049\n",
       "49  60539  21356  270693  A058"
      ]
     },
     "execution_count": 13,
     "metadata": {},
     "output_type": "execute_result"
    }
   ],
   "source": [
    "sleep_top5"
   ]
  },
  {
   "cell_type": "code",
   "execution_count": 14,
   "metadata": {
    "collapsed": false
   },
   "outputs": [
    {
     "data": {
      "text/html": [
       "<div>\n",
       "<table border=\"1\" class=\"dataframe\">\n",
       "  <thead>\n",
       "    <tr style=\"text-align: right;\">\n",
       "      <th></th>\n",
       "      <th>heart</th>\n",
       "      <th>sleep</th>\n",
       "      <th>steps</th>\n",
       "      <th>user</th>\n",
       "    </tr>\n",
       "  </thead>\n",
       "  <tbody>\n",
       "    <tr>\n",
       "      <th>54</th>\n",
       "      <td>63309</td>\n",
       "      <td>13319</td>\n",
       "      <td>1083320</td>\n",
       "      <td>A025</td>\n",
       "    </tr>\n",
       "    <tr>\n",
       "      <th>2</th>\n",
       "      <td>66945</td>\n",
       "      <td>16604</td>\n",
       "      <td>1070291</td>\n",
       "      <td>A026</td>\n",
       "    </tr>\n",
       "    <tr>\n",
       "      <th>4</th>\n",
       "      <td>62214</td>\n",
       "      <td>18038</td>\n",
       "      <td>974336</td>\n",
       "      <td>A043</td>\n",
       "    </tr>\n",
       "    <tr>\n",
       "      <th>14</th>\n",
       "      <td>69617</td>\n",
       "      <td>18638</td>\n",
       "      <td>835907</td>\n",
       "      <td>A045</td>\n",
       "    </tr>\n",
       "    <tr>\n",
       "      <th>44</th>\n",
       "      <td>53690</td>\n",
       "      <td>10659</td>\n",
       "      <td>816567</td>\n",
       "      <td>A062</td>\n",
       "    </tr>\n",
       "  </tbody>\n",
       "</table>\n",
       "</div>"
      ],
      "text/plain": [
       "    heart  sleep    steps  user\n",
       "54  63309  13319  1083320  A025\n",
       "2   66945  16604  1070291  A026\n",
       "4   62214  18038   974336  A043\n",
       "14  69617  18638   835907  A045\n",
       "44  53690  10659   816567  A062"
      ]
     },
     "execution_count": 14,
     "metadata": {},
     "output_type": "execute_result"
    }
   ],
   "source": [
    "steps_top5"
   ]
  },
  {
   "cell_type": "markdown",
   "metadata": {},
   "source": [
    "## Spark ver."
   ]
  },
  {
   "cell_type": "code",
   "execution_count": 15,
   "metadata": {
    "collapsed": false
   },
   "outputs": [],
   "source": [
    "base_path = '/home/datascience/sokulee/'\n",
    "sokulee_dir = os.listdir(base_path)\n",
    "\n",
    "users_cols = ['user', 'sleep', 'steps', 'heart']\n",
    "users_datas = []\n",
    "\n",
    "for user in sokulee_dir:\n",
    "    user_dir = base_path + user + '/'\n",
    "    \n",
    "    user_df_sleep = spark.read.json(user_dir + '*_sleep.json')\n",
    "    user_df_steps = spark.read.json(user_dir + '*_steps.json')\n",
    "    user_df_heart = spark.read.json(user_dir + '*_heart.json')\n",
    "\n",
    "    sum_of_sleep = user_df_sleep.select(sum(user_df_sleep['summary']['totalMinutesAsleep']))\n",
    "    sum_of_steps = user_df_steps.select(sum(user_df_steps['activities-steps'][0]['value']))\n",
    "    sum_of_heart = user_df_heart.select(\n",
    "                    sum(user_df_heart['activities-heart'][0]['value']['heartRateZones'][0]['minutes'] +\n",
    "                         user_df_heart['activities-heart'][0]['value']['heartRateZones'][1]['minutes'] +\n",
    "                         user_df_heart['activities-heart'][0]['value']['heartRateZones'][2]['minutes'] +\n",
    "                         user_df_heart['activities-heart'][0]['value']['heartRateZones'][3]['minutes']))\n",
    "    \n",
    "    users_datas.append([user, sum_of_sleep.head()[0], sum_of_steps.head()[0], sum_of_heart.head()[0]])"
   ]
  },
  {
   "cell_type": "code",
   "execution_count": 16,
   "metadata": {
    "collapsed": false
   },
   "outputs": [
    {
     "data": {
      "text/html": [
       "<div>\n",
       "<table border=\"1\" class=\"dataframe\">\n",
       "  <thead>\n",
       "    <tr style=\"text-align: right;\">\n",
       "      <th></th>\n",
       "      <th>user</th>\n",
       "      <th>sleep</th>\n",
       "      <th>steps</th>\n",
       "      <th>heart</th>\n",
       "    </tr>\n",
       "  </thead>\n",
       "  <tbody>\n",
       "    <tr>\n",
       "      <th>0</th>\n",
       "      <td>A028</td>\n",
       "      <td>19667</td>\n",
       "      <td>421421.0</td>\n",
       "      <td>57524</td>\n",
       "    </tr>\n",
       "    <tr>\n",
       "      <th>1</th>\n",
       "      <td>A020</td>\n",
       "      <td>14468</td>\n",
       "      <td>676258.0</td>\n",
       "      <td>57854</td>\n",
       "    </tr>\n",
       "    <tr>\n",
       "      <th>2</th>\n",
       "      <td>A026</td>\n",
       "      <td>16604</td>\n",
       "      <td>1070291.0</td>\n",
       "      <td>66945</td>\n",
       "    </tr>\n",
       "    <tr>\n",
       "      <th>3</th>\n",
       "      <td>A053</td>\n",
       "      <td>17694</td>\n",
       "      <td>289223.0</td>\n",
       "      <td>57192</td>\n",
       "    </tr>\n",
       "    <tr>\n",
       "      <th>4</th>\n",
       "      <td>A043</td>\n",
       "      <td>18038</td>\n",
       "      <td>974336.0</td>\n",
       "      <td>62214</td>\n",
       "    </tr>\n",
       "  </tbody>\n",
       "</table>\n",
       "</div>"
      ],
      "text/plain": [
       "   user  sleep      steps  heart\n",
       "0  A028  19667   421421.0  57524\n",
       "1  A020  14468   676258.0  57854\n",
       "2  A026  16604  1070291.0  66945\n",
       "3  A053  17694   289223.0  57192\n",
       "4  A043  18038   974336.0  62214"
      ]
     },
     "execution_count": 16,
     "metadata": {},
     "output_type": "execute_result"
    }
   ],
   "source": [
    "fitbit_df = pd.DataFrame(users_datas, columns=users_cols)\n",
    "fitbit_df.head()"
   ]
  },
  {
   "cell_type": "code",
   "execution_count": 17,
   "metadata": {
    "collapsed": true
   },
   "outputs": [],
   "source": [
    "fitbit_df.sort_values('heart', ascending=False, inplace=True)\n",
    "heart_top5 = fitbit_df[:5]\n",
    "\n",
    "fitbit_df.sort_values('sleep', ascending=False, inplace=True)\n",
    "sleep_top5 = fitbit_df[:5]\n",
    "\n",
    "fitbit_df.sort_values('steps', ascending=False, inplace=True)\n",
    "steps_top5 = fitbit_df[:5]"
   ]
  },
  {
   "cell_type": "markdown",
   "metadata": {},
   "source": [
    "### Top 5 users for each category"
   ]
  },
  {
   "cell_type": "code",
   "execution_count": 18,
   "metadata": {
    "collapsed": false
   },
   "outputs": [
    {
     "data": {
      "text/html": [
       "<div>\n",
       "<table border=\"1\" class=\"dataframe\">\n",
       "  <thead>\n",
       "    <tr style=\"text-align: right;\">\n",
       "      <th></th>\n",
       "      <th>user</th>\n",
       "      <th>sleep</th>\n",
       "      <th>steps</th>\n",
       "      <th>heart</th>\n",
       "    </tr>\n",
       "  </thead>\n",
       "  <tbody>\n",
       "    <tr>\n",
       "      <th>47</th>\n",
       "      <td>A049</td>\n",
       "      <td>21391</td>\n",
       "      <td>325833.0</td>\n",
       "      <td>70112</td>\n",
       "    </tr>\n",
       "    <tr>\n",
       "      <th>14</th>\n",
       "      <td>A045</td>\n",
       "      <td>18638</td>\n",
       "      <td>835907.0</td>\n",
       "      <td>69617</td>\n",
       "    </tr>\n",
       "    <tr>\n",
       "      <th>34</th>\n",
       "      <td>A07</td>\n",
       "      <td>19527</td>\n",
       "      <td>584462.0</td>\n",
       "      <td>69194</td>\n",
       "    </tr>\n",
       "    <tr>\n",
       "      <th>18</th>\n",
       "      <td>A017</td>\n",
       "      <td>18544</td>\n",
       "      <td>697669.0</td>\n",
       "      <td>69162</td>\n",
       "    </tr>\n",
       "    <tr>\n",
       "      <th>51</th>\n",
       "      <td>A022</td>\n",
       "      <td>20921</td>\n",
       "      <td>439406.0</td>\n",
       "      <td>68872</td>\n",
       "    </tr>\n",
       "  </tbody>\n",
       "</table>\n",
       "</div>"
      ],
      "text/plain": [
       "    user  sleep     steps  heart\n",
       "47  A049  21391  325833.0  70112\n",
       "14  A045  18638  835907.0  69617\n",
       "34   A07  19527  584462.0  69194\n",
       "18  A017  18544  697669.0  69162\n",
       "51  A022  20921  439406.0  68872"
      ]
     },
     "execution_count": 18,
     "metadata": {},
     "output_type": "execute_result"
    }
   ],
   "source": [
    "heart_top5"
   ]
  },
  {
   "cell_type": "code",
   "execution_count": 19,
   "metadata": {
    "collapsed": false
   },
   "outputs": [
    {
     "data": {
      "text/html": [
       "<div>\n",
       "<table border=\"1\" class=\"dataframe\">\n",
       "  <thead>\n",
       "    <tr style=\"text-align: right;\">\n",
       "      <th></th>\n",
       "      <th>user</th>\n",
       "      <th>sleep</th>\n",
       "      <th>steps</th>\n",
       "      <th>heart</th>\n",
       "    </tr>\n",
       "  </thead>\n",
       "  <tbody>\n",
       "    <tr>\n",
       "      <th>40</th>\n",
       "      <td>A027</td>\n",
       "      <td>23097</td>\n",
       "      <td>464660.0</td>\n",
       "      <td>66474</td>\n",
       "    </tr>\n",
       "    <tr>\n",
       "      <th>19</th>\n",
       "      <td>A065</td>\n",
       "      <td>23097</td>\n",
       "      <td>464660.0</td>\n",
       "      <td>66474</td>\n",
       "    </tr>\n",
       "    <tr>\n",
       "      <th>61</th>\n",
       "      <td>A047</td>\n",
       "      <td>22128</td>\n",
       "      <td>413737.0</td>\n",
       "      <td>63347</td>\n",
       "    </tr>\n",
       "    <tr>\n",
       "      <th>47</th>\n",
       "      <td>A049</td>\n",
       "      <td>21391</td>\n",
       "      <td>325833.0</td>\n",
       "      <td>70112</td>\n",
       "    </tr>\n",
       "    <tr>\n",
       "      <th>49</th>\n",
       "      <td>A058</td>\n",
       "      <td>21356</td>\n",
       "      <td>270693.0</td>\n",
       "      <td>60539</td>\n",
       "    </tr>\n",
       "  </tbody>\n",
       "</table>\n",
       "</div>"
      ],
      "text/plain": [
       "    user  sleep     steps  heart\n",
       "40  A027  23097  464660.0  66474\n",
       "19  A065  23097  464660.0  66474\n",
       "61  A047  22128  413737.0  63347\n",
       "47  A049  21391  325833.0  70112\n",
       "49  A058  21356  270693.0  60539"
      ]
     },
     "execution_count": 19,
     "metadata": {},
     "output_type": "execute_result"
    }
   ],
   "source": [
    "sleep_top5"
   ]
  },
  {
   "cell_type": "code",
   "execution_count": 20,
   "metadata": {
    "collapsed": false
   },
   "outputs": [
    {
     "data": {
      "text/html": [
       "<div>\n",
       "<table border=\"1\" class=\"dataframe\">\n",
       "  <thead>\n",
       "    <tr style=\"text-align: right;\">\n",
       "      <th></th>\n",
       "      <th>user</th>\n",
       "      <th>sleep</th>\n",
       "      <th>steps</th>\n",
       "      <th>heart</th>\n",
       "    </tr>\n",
       "  </thead>\n",
       "  <tbody>\n",
       "    <tr>\n",
       "      <th>54</th>\n",
       "      <td>A025</td>\n",
       "      <td>13319</td>\n",
       "      <td>1083320.0</td>\n",
       "      <td>63309</td>\n",
       "    </tr>\n",
       "    <tr>\n",
       "      <th>2</th>\n",
       "      <td>A026</td>\n",
       "      <td>16604</td>\n",
       "      <td>1070291.0</td>\n",
       "      <td>66945</td>\n",
       "    </tr>\n",
       "    <tr>\n",
       "      <th>4</th>\n",
       "      <td>A043</td>\n",
       "      <td>18038</td>\n",
       "      <td>974336.0</td>\n",
       "      <td>62214</td>\n",
       "    </tr>\n",
       "    <tr>\n",
       "      <th>14</th>\n",
       "      <td>A045</td>\n",
       "      <td>18638</td>\n",
       "      <td>835907.0</td>\n",
       "      <td>69617</td>\n",
       "    </tr>\n",
       "    <tr>\n",
       "      <th>44</th>\n",
       "      <td>A062</td>\n",
       "      <td>10659</td>\n",
       "      <td>816567.0</td>\n",
       "      <td>53690</td>\n",
       "    </tr>\n",
       "  </tbody>\n",
       "</table>\n",
       "</div>"
      ],
      "text/plain": [
       "    user  sleep      steps  heart\n",
       "54  A025  13319  1083320.0  63309\n",
       "2   A026  16604  1070291.0  66945\n",
       "4   A043  18038   974336.0  62214\n",
       "14  A045  18638   835907.0  69617\n",
       "44  A062  10659   816567.0  53690"
      ]
     },
     "execution_count": 20,
     "metadata": {},
     "output_type": "execute_result"
    }
   ],
   "source": [
    "steps_top5"
   ]
  },
  {
   "cell_type": "markdown",
   "metadata": {
    "collapsed": true
   },
   "source": [
    "# Get mean wearing minutes(heart), sleep minutes, steps count data"
   ]
  },
  {
   "cell_type": "markdown",
   "metadata": {},
   "source": [
    "## Spark ver."
   ]
  },
  {
   "cell_type": "code",
   "execution_count": 21,
   "metadata": {
    "collapsed": false
   },
   "outputs": [],
   "source": [
    "base_path = '/home/datascience/sokulee/'\n",
    "sokulee_dir = os.listdir(base_path)\n",
    "\n",
    "data_cols = ['sleep', 'steps', 'heart']\n",
    "datas = []\n",
    "\n",
    "users_cols = ['user', 'sleep', 'steps', 'heart']\n",
    "users_datas = []\n",
    "\n",
    "for user in sokulee_dir:\n",
    "    user_dir = base_path + user + '/'\n",
    "    \n",
    "    user_df_sleep = spark.read.json(user_dir + '*_sleep.json')\n",
    "    user_df_steps = spark.read.json(user_dir + '*_steps.json')\n",
    "    user_df_heart = spark.read.json(user_dir + '*_heart.json')\n",
    "    \n",
    "    mean_of_sleep = user_df_sleep.select(mean(user_df_sleep['summary']['totalMinutesAsleep']))\n",
    "    mean_of_steps = user_df_steps.select(mean(user_df_steps['activities-steps'][0]['value']))\n",
    "    mean_of_heart = user_df_heart.select(\n",
    "                    mean(user_df_heart['activities-heart'][0]['value']['heartRateZones'][0]['minutes'] +\n",
    "                         user_df_heart['activities-heart'][0]['value']['heartRateZones'][1]['minutes'] +\n",
    "                         user_df_heart['activities-heart'][0]['value']['heartRateZones'][2]['minutes'] +\n",
    "                         user_df_heart['activities-heart'][0]['value']['heartRateZones'][3]['minutes']))\n",
    "\n",
    "    datas.append([mean_of_sleep.head()[0], mean_of_steps.head()[0], mean_of_heart.head()[0]])\n",
    "    users_datas.append([user, mean_of_sleep.head()[0], mean_of_steps.head()[0], mean_of_heart.head()[0]])"
   ]
  },
  {
   "cell_type": "markdown",
   "metadata": {},
   "source": [
    "## Set data format for K-means API in Spark"
   ]
  },
  {
   "cell_type": "code",
   "execution_count": 22,
   "metadata": {
    "collapsed": false
   },
   "outputs": [
    {
     "data": {
      "text/html": [
       "<div>\n",
       "<table border=\"1\" class=\"dataframe\">\n",
       "  <thead>\n",
       "    <tr style=\"text-align: right;\">\n",
       "      <th></th>\n",
       "      <th>sleep</th>\n",
       "      <th>steps</th>\n",
       "      <th>heart</th>\n",
       "    </tr>\n",
       "  </thead>\n",
       "  <tbody>\n",
       "    <tr>\n",
       "      <th>0</th>\n",
       "      <td>1:401.37</td>\n",
       "      <td>2:8428.42</td>\n",
       "      <td>3:1173.96</td>\n",
       "    </tr>\n",
       "    <tr>\n",
       "      <th>1</th>\n",
       "      <td>1:295.27</td>\n",
       "      <td>2:13525.16</td>\n",
       "      <td>3:1157.08</td>\n",
       "    </tr>\n",
       "    <tr>\n",
       "      <th>2</th>\n",
       "      <td>1:338.86</td>\n",
       "      <td>2:21405.82</td>\n",
       "      <td>3:1338.90</td>\n",
       "    </tr>\n",
       "    <tr>\n",
       "      <th>3</th>\n",
       "      <td>1:353.88</td>\n",
       "      <td>2:5784.46</td>\n",
       "      <td>3:1243.30</td>\n",
       "    </tr>\n",
       "    <tr>\n",
       "      <th>4</th>\n",
       "      <td>1:360.76</td>\n",
       "      <td>2:19486.72</td>\n",
       "      <td>3:1244.28</td>\n",
       "    </tr>\n",
       "  </tbody>\n",
       "</table>\n",
       "</div>"
      ],
      "text/plain": [
       "      sleep       steps      heart\n",
       "0  1:401.37   2:8428.42  3:1173.96\n",
       "1  1:295.27  2:13525.16  3:1157.08\n",
       "2  1:338.86  2:21405.82  3:1338.90\n",
       "3  1:353.88   2:5784.46  3:1243.30\n",
       "4  1:360.76  2:19486.72  3:1244.28"
      ]
     },
     "execution_count": 22,
     "metadata": {},
     "output_type": "execute_result"
    }
   ],
   "source": [
    "data_df = pd.DataFrame(datas, columns=data_cols).round(2)\n",
    "user_df = pd.DataFrame(users_datas, columns=users_cols).round(2)\n",
    "\n",
    "data_df['sleep'] = data_df['sleep'].map('1:{:.2f}'.format)\n",
    "data_df['steps'] = data_df['steps'].map('2:{:.2f}'.format)\n",
    "data_df['heart'] = data_df['heart'].map('3:{:.2f}'.format)\n",
    "data_df.head()"
   ]
  },
  {
   "cell_type": "code",
   "execution_count": 23,
   "metadata": {
    "collapsed": true
   },
   "outputs": [],
   "source": [
    "data_df.to_csv('average.txt', sep=' ', header=False)"
   ]
  },
  {
   "cell_type": "code",
   "execution_count": 24,
   "metadata": {
    "collapsed": true
   },
   "outputs": [],
   "source": [
    "dataset = spark.read.format(\"libsvm\").load('average.txt')"
   ]
  },
  {
   "cell_type": "markdown",
   "metadata": {},
   "source": [
    "## K-means clustering"
   ]
  },
  {
   "cell_type": "code",
   "execution_count": 25,
   "metadata": {
    "collapsed": false
   },
   "outputs": [
    {
     "name": "stdout",
     "output_type": "stream",
     "text": [
      "Within Set Sum of Squared Errors = 101814925.04623917\n",
      "Cluster Centers: \n",
      "[  295.61096774  6993.49935484  1150.06193548]\n",
      "[   324.866  15007.116   1245.336]\n",
      "[   309.04315789  10822.96105263   1189.34947368]\n",
      "[   323.81333333  20852.98         1291.73333333]\n"
     ]
    }
   ],
   "source": [
    "# Trains a k-means model.\n",
    "kmeans = KMeans().setK(4).setSeed(1)\n",
    "model = kmeans.fit(dataset)\n",
    "\n",
    "# Evaluate clustering by computing Within Set Sum of Squared Errors.\n",
    "wssse = model.computeCost(dataset)\n",
    "print(\"Within Set Sum of Squared Errors = \" + str(wssse))\n",
    "\n",
    "# Shows the result.\n",
    "centers = model.clusterCenters()\n",
    "\n",
    "print(\"Cluster Centers: \")\n",
    "for center in centers:\n",
    "    print(center)"
   ]
  },
  {
   "cell_type": "code",
   "execution_count": 27,
   "metadata": {
    "collapsed": false
   },
   "outputs": [
    {
     "data": {
      "text/plain": [
       "array([379.55000000000001, 12586.9, 1338.8800000000001], dtype=object)"
      ]
     },
     "execution_count": 27,
     "metadata": {},
     "output_type": "execute_result"
    }
   ],
   "source": [
    "user_A08_row = np.array(user_df.iloc[50])\n",
    "user_A08 = user_A08_row[1:4]\n",
    "user_A08"
   ]
  },
  {
   "cell_type": "markdown",
   "metadata": {},
   "source": [
    "## Euclidean distance for A08 User's nearest cluster."
   ]
  },
  {
   "cell_type": "code",
   "execution_count": 28,
   "metadata": {
    "collapsed": true
   },
   "outputs": [],
   "source": [
    "import math\n",
    "\n",
    "def euclidean_distance(a, b):    \n",
    "    return math.sqrt( (a[0] - b[0])**2 + \n",
    "                      (a[1] - b[1])**2 + \n",
    "                      (a[2] - b[2])**2  )\n",
    "\n",
    "def norm_euclidean_distance(a, b):\n",
    "    return 1 / (euclidean_distance(a, b) + 1)"
   ]
  },
  {
   "cell_type": "code",
   "execution_count": 29,
   "metadata": {
    "collapsed": false
   },
   "outputs": [
    {
     "name": "stdout",
     "output_type": "stream",
     "text": [
      "A08's nearest cluster is  [   309.04315789  10822.96105263   1189.34947368]\n"
     ]
    }
   ],
   "source": [
    "norm_dist = -1\n",
    "users_cluster = []\n",
    "\n",
    "for center in centers:\n",
    "    dist = norm_euclidean_distance(center, user_A08)\n",
    "    if norm_dist < dist:\n",
    "        norm_dist = dist\n",
    "        users_cluster = center\n",
    "    \n",
    "print(\"A08's nearest cluster is \", users_cluster)"
   ]
  },
  {
   "cell_type": "markdown",
   "metadata": {},
   "source": [
    "## Euclidean distance for A08 User's nearest user."
   ]
  },
  {
   "cell_type": "code",
   "execution_count": 30,
   "metadata": {
    "collapsed": true
   },
   "outputs": [],
   "source": [
    "def euclidean_distance(a, b):    \n",
    "    return math.sqrt( (a['sleep'] - b['sleep'])**2 + \n",
    "                      (a['steps'] - b['steps'])**2 + \n",
    "                      (a['heart'] - b['heart'])**2  )\n",
    "\n",
    "def norm_euclidean_distance(a, b):\n",
    "    return 1 / (euclidean_distance(a, b) + 1)"
   ]
  },
  {
   "cell_type": "code",
   "execution_count": 36,
   "metadata": {
    "collapsed": true
   },
   "outputs": [],
   "source": [
    "user_A08 = pd.Series(['A08', user_A08[0], user_A08[1], user_A08[2]], index = ['user', 'sleep', 'steps', 'heart'])"
   ]
  },
  {
   "cell_type": "code",
   "execution_count": 37,
   "metadata": {
    "collapsed": false
   },
   "outputs": [
    {
     "name": "stdout",
     "output_type": "stream",
     "text": [
      "A08's nearest user is A052, normalized_dist = 0.0051556374\n"
     ]
    }
   ],
   "source": [
    "normoalized_dist = -1\n",
    "nearest_user = 'A00'\n",
    "for index, row in user_df.iterrows():\n",
    "    if row['user'] == 'A08':\n",
    "        continue\n",
    "\n",
    "    dist = norm_euclidean_distance(user_A08, row)\n",
    "    if normoalized_dist < dist:\n",
    "        normoalized_dist = dist\n",
    "        nearest_user = row['user']\n",
    "\n",
    "print(\"A08's nearest user is %s, normalized_dist = %.10f\" %(nearest_user, normoalized_dist))"
   ]
  },
  {
   "cell_type": "markdown",
   "metadata": {},
   "source": [
    "## Visualize user's data and cluster centers"
   ]
  },
  {
   "cell_type": "code",
   "execution_count": 38,
   "metadata": {
    "collapsed": true
   },
   "outputs": [],
   "source": [
    "from matplotlib import pyplot\n",
    "import pylab\n",
    "from mpl_toolkits.mplot3d import Axes3D\n",
    "import random"
   ]
  },
  {
   "cell_type": "code",
   "execution_count": 43,
   "metadata": {
    "collapsed": false
   },
   "outputs": [
    {
     "data": {
      "text/html": [
       "<div>\n",
       "<table border=\"1\" class=\"dataframe\">\n",
       "  <thead>\n",
       "    <tr style=\"text-align: right;\">\n",
       "      <th></th>\n",
       "      <th>0</th>\n",
       "      <th>1</th>\n",
       "      <th>2</th>\n",
       "    </tr>\n",
       "  </thead>\n",
       "  <tbody>\n",
       "    <tr>\n",
       "      <th>0</th>\n",
       "      <td>295.610968</td>\n",
       "      <td>6993.499355</td>\n",
       "      <td>1150.061935</td>\n",
       "    </tr>\n",
       "    <tr>\n",
       "      <th>1</th>\n",
       "      <td>324.866000</td>\n",
       "      <td>15007.116000</td>\n",
       "      <td>1245.336000</td>\n",
       "    </tr>\n",
       "    <tr>\n",
       "      <th>2</th>\n",
       "      <td>309.043158</td>\n",
       "      <td>10822.961053</td>\n",
       "      <td>1189.349474</td>\n",
       "    </tr>\n",
       "    <tr>\n",
       "      <th>3</th>\n",
       "      <td>323.813333</td>\n",
       "      <td>20852.980000</td>\n",
       "      <td>1291.733333</td>\n",
       "    </tr>\n",
       "  </tbody>\n",
       "</table>\n",
       "</div>"
      ],
      "text/plain": [
       "            0             1            2\n",
       "0  295.610968   6993.499355  1150.061935\n",
       "1  324.866000  15007.116000  1245.336000\n",
       "2  309.043158  10822.961053  1189.349474\n",
       "3  323.813333  20852.980000  1291.733333"
      ]
     },
     "execution_count": 43,
     "metadata": {},
     "output_type": "execute_result"
    }
   ],
   "source": [
    "centers = np.array(centers)\n",
    "c_df = pd.DataFrame(centers)\n",
    "c_df"
   ]
  },
  {
   "cell_type": "code",
   "execution_count": 52,
   "metadata": {
    "collapsed": true
   },
   "outputs": [],
   "source": [
    "fig3d = pylab.figure()\n",
    "ax = Axes3D(fig3d)"
   ]
  },
  {
   "cell_type": "markdown",
   "metadata": {},
   "source": [
    "## User : blue, Cluster center : red"
   ]
  },
  {
   "cell_type": "code",
   "execution_count": 53,
   "metadata": {
    "collapsed": false
   },
   "outputs": [
    {
     "data": {
      "image/png": "[encoded data removed]",
      "text/plain": [
       "<matplotlib.figure.Figure at 0x7fbaf07f2ba8>"
      ]
     },
     "metadata": {},
     "output_type": "display_data"
    }
   ],
   "source": [
    "ax.scatter(user_df['sleep'], user_df['steps'], user_df['heart'], color='blue')\n",
    "ax.scatter(c_df[0], c_df[1], c_df[2], color='red')\n",
    "pyplot.show()"
   ]
  }
 ],
 "metadata": {
  "kernelspec": {
   "display_name": "Python 3",
   "language": "python",
   "name": "python3"
  },
  "language_info": {
   "codemirror_mode": {
    "name": "ipython",
    "version": 3
   },
   "file_extension": ".py",
   "mimetype": "text/x-python",
   "name": "python",
   "nbconvert_exporter": "python",
   "pygments_lexer": "ipython3",
   "version": "3.6.0"
  }
 },
 "nbformat": 4,
 "nbformat_minor": 2
}
